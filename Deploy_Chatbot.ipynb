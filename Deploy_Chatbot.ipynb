{
 "cells": [
  {
   "cell_type": "markdown",
   "id": "446c0b30",
   "metadata": {},
   "source": [
    "### Deploy Chatbot on Ngrok"
   ]
  },
  {
   "cell_type": "code",
   "execution_count": 2,
   "id": "7221cc95",
   "metadata": {},
   "outputs": [
    {
     "name": "stdout",
     "output_type": "stream",
     "text": [
      "Requirement already satisfied: streamlit>=1.24 in c:\\program files\\python38\\lib\\site-packages (from -r requirements.txt (line 1)) (1.40.1)\n",
      "Requirement already satisfied: torch>=2.0 in c:\\program files\\python38\\lib\\site-packages (from -r requirements.txt (line 2)) (2.4.1)\n",
      "Requirement already satisfied: transformers>=4.30 in c:\\program files\\python38\\lib\\site-packages (from -r requirements.txt (line 3)) (4.46.3)\n",
      "Requirement already satisfied: pandas>=1.5 in c:\\program files\\python38\\lib\\site-packages (from -r requirements.txt (line 4)) (1.5.3)\n",
      "Requirement already satisfied: xlrd>=2.0.1 in c:\\program files\\python38\\lib\\site-packages (from -r requirements.txt (line 5)) (2.0.1)\n",
      "Requirement already satisfied: xlwt>=1.3.0 in c:\\program files\\python38\\lib\\site-packages (from -r requirements.txt (line 6)) (1.3.0)\n",
      "Requirement already satisfied: matplotlib>=3.7 in c:\\program files\\python38\\lib\\site-packages (from -r requirements.txt (line 7)) (3.7.4)\n",
      "Requirement already satisfied: seaborn>=0.12 in c:\\program files\\python38\\lib\\site-packages (from -r requirements.txt (line 8)) (0.13.1)\n",
      "Requirement already satisfied: altair<6,>=4.0 in c:\\program files\\python38\\lib\\site-packages (from streamlit>=1.24->-r requirements.txt (line 1)) (4.0.0)\n",
      "Requirement already satisfied: blinker<2,>=1.0.0 in c:\\program files\\python38\\lib\\site-packages (from streamlit>=1.24->-r requirements.txt (line 1)) (1.7.0)\n",
      "Requirement already satisfied: cachetools<6,>=4.0 in c:\\program files\\python38\\lib\\site-packages (from streamlit>=1.24->-r requirements.txt (line 1)) (5.3.2)\n",
      "Requirement already satisfied: click<9,>=7.0 in c:\\program files\\python38\\lib\\site-packages (from streamlit>=1.24->-r requirements.txt (line 1)) (8.1.7)\n",
      "Requirement already satisfied: numpy<3,>=1.20 in c:\\program files\\python38\\lib\\site-packages (from streamlit>=1.24->-r requirements.txt (line 1)) (1.23.5)\n",
      "Requirement already satisfied: packaging<25,>=20 in c:\\program files\\python38\\lib\\site-packages (from streamlit>=1.24->-r requirements.txt (line 1)) (23.2)\n",
      "Requirement already satisfied: pillow<12,>=7.1.0 in c:\\program files\\python38\\lib\\site-packages (from streamlit>=1.24->-r requirements.txt (line 1)) (10.4.0)\n",
      "Requirement already satisfied: protobuf<6,>=3.20 in c:\\program files\\python38\\lib\\site-packages (from streamlit>=1.24->-r requirements.txt (line 1)) (3.20.3)\n",
      "Requirement already satisfied: pyarrow>=7.0 in c:\\program files\\python38\\lib\\site-packages (from streamlit>=1.24->-r requirements.txt (line 1)) (16.1.0)\n",
      "Requirement already satisfied: requests<3,>=2.27 in c:\\program files\\python38\\lib\\site-packages (from streamlit>=1.24->-r requirements.txt (line 1)) (2.32.3)\n",
      "Requirement already satisfied: rich<14,>=10.14.0 in c:\\program files\\python38\\lib\\site-packages (from streamlit>=1.24->-r requirements.txt (line 1)) (13.0.1)\n",
      "Requirement already satisfied: tenacity<10,>=8.1.0 in c:\\program files\\python38\\lib\\site-packages (from streamlit>=1.24->-r requirements.txt (line 1)) (8.2.3)\n",
      "Requirement already satisfied: toml<2,>=0.10.1 in c:\\program files\\python38\\lib\\site-packages (from streamlit>=1.24->-r requirements.txt (line 1)) (0.10.2)\n",
      "Requirement already satisfied: typing-extensions<5,>=4.3.0 in c:\\program files\\python38\\lib\\site-packages (from streamlit>=1.24->-r requirements.txt (line 1)) (4.13.2)\n",
      "Requirement already satisfied: gitpython!=3.1.19,<4,>=3.0.7 in c:\\program files\\python38\\lib\\site-packages (from streamlit>=1.24->-r requirements.txt (line 1)) (3.1.40)\n",
      "Requirement already satisfied: pydeck<1,>=0.8.0b4 in c:\\program files\\python38\\lib\\site-packages (from streamlit>=1.24->-r requirements.txt (line 1)) (0.8.1b0)\n",
      "Requirement already satisfied: tornado<7,>=6.0.3 in c:\\program files\\python38\\lib\\site-packages (from streamlit>=1.24->-r requirements.txt (line 1)) (6.3.3)\n",
      "Requirement already satisfied: watchdog<7,>=2.1.5 in c:\\program files\\python38\\lib\\site-packages (from streamlit>=1.24->-r requirements.txt (line 1)) (3.0.0)\n",
      "Requirement already satisfied: filelock in c:\\program files\\python38\\lib\\site-packages (from torch>=2.0->-r requirements.txt (line 2)) (3.13.1)\n",
      "Requirement already satisfied: sympy in c:\\program files\\python38\\lib\\site-packages (from torch>=2.0->-r requirements.txt (line 2)) (1.12)\n",
      "Requirement already satisfied: networkx in c:\\program files\\python38\\lib\\site-packages (from torch>=2.0->-r requirements.txt (line 2)) (3.1)\n",
      "Requirement already satisfied: jinja2 in c:\\program files\\python38\\lib\\site-packages (from torch>=2.0->-r requirements.txt (line 2)) (3.1.2)\n",
      "Requirement already satisfied: fsspec in c:\\program files\\python38\\lib\\site-packages (from torch>=2.0->-r requirements.txt (line 2)) (2024.3.1)\n",
      "Requirement already satisfied: huggingface-hub<1.0,>=0.23.2 in c:\\program files\\python38\\lib\\site-packages (from transformers>=4.30->-r requirements.txt (line 3)) (0.30.2)\n",
      "Requirement already satisfied: pyyaml>=5.1 in c:\\program files\\python38\\lib\\site-packages (from transformers>=4.30->-r requirements.txt (line 3)) (6.0.1)\n",
      "Requirement already satisfied: regex!=2019.12.17 in c:\\program files\\python38\\lib\\site-packages (from transformers>=4.30->-r requirements.txt (line 3)) (2023.12.25)\n",
      "Requirement already satisfied: tokenizers<0.21,>=0.20 in c:\\program files\\python38\\lib\\site-packages (from transformers>=4.30->-r requirements.txt (line 3)) (0.20.3)\n",
      "Requirement already satisfied: safetensors>=0.4.1 in c:\\program files\\python38\\lib\\site-packages (from transformers>=4.30->-r requirements.txt (line 3)) (0.4.3)\n",
      "Requirement already satisfied: tqdm>=4.27 in c:\\program files\\python38\\lib\\site-packages (from transformers>=4.30->-r requirements.txt (line 3)) (4.66.4)\n",
      "Requirement already satisfied: python-dateutil>=2.8.1 in c:\\program files\\python38\\lib\\site-packages (from pandas>=1.5->-r requirements.txt (line 4)) (2.8.2)\n",
      "Requirement already satisfied: pytz>=2020.1 in c:\\program files\\python38\\lib\\site-packages (from pandas>=1.5->-r requirements.txt (line 4)) (2023.3.post1)\n",
      "Requirement already satisfied: contourpy>=1.0.1 in c:\\program files\\python38\\lib\\site-packages (from matplotlib>=3.7->-r requirements.txt (line 7)) (1.1.1)\n",
      "Requirement already satisfied: cycler>=0.10 in c:\\program files\\python38\\lib\\site-packages (from matplotlib>=3.7->-r requirements.txt (line 7)) (0.12.1)\n",
      "Requirement already satisfied: fonttools>=4.22.0 in c:\\program files\\python38\\lib\\site-packages (from matplotlib>=3.7->-r requirements.txt (line 7)) (4.45.1)\n",
      "Requirement already satisfied: kiwisolver>=1.0.1 in c:\\program files\\python38\\lib\\site-packages (from matplotlib>=3.7->-r requirements.txt (line 7)) (1.4.5)\n",
      "Requirement already satisfied: pyparsing>=2.3.1 in c:\\program files\\python38\\lib\\site-packages (from matplotlib>=3.7->-r requirements.txt (line 7)) (3.1.1)\n",
      "Requirement already satisfied: importlib-resources>=3.2.0 in c:\\program files\\python38\\lib\\site-packages (from matplotlib>=3.7->-r requirements.txt (line 7)) (6.1.1)\n",
      "Requirement already satisfied: entrypoints in c:\\program files\\python38\\lib\\site-packages (from altair<6,>=4.0->streamlit>=1.24->-r requirements.txt (line 1)) (0.4)\n",
      "Requirement already satisfied: jsonschema in c:\\program files\\python38\\lib\\site-packages (from altair<6,>=4.0->streamlit>=1.24->-r requirements.txt (line 1)) (3.2.0)\n",
      "Requirement already satisfied: toolz in c:\\program files\\python38\\lib\\site-packages (from altair<6,>=4.0->streamlit>=1.24->-r requirements.txt (line 1)) (0.12.0)\n",
      "Requirement already satisfied: colorama in c:\\program files\\python38\\lib\\site-packages (from click<9,>=7.0->streamlit>=1.24->-r requirements.txt (line 1)) (0.4.6)\n",
      "Requirement already satisfied: gitdb<5,>=4.0.1 in c:\\program files\\python38\\lib\\site-packages (from gitpython!=3.1.19,<4,>=3.0.7->streamlit>=1.24->-r requirements.txt (line 1)) (4.0.11)\n",
      "Requirement already satisfied: zipp>=3.1.0 in c:\\program files\\python38\\lib\\site-packages (from importlib-resources>=3.2.0->matplotlib>=3.7->-r requirements.txt (line 7)) (3.17.0)\n",
      "Requirement already satisfied: MarkupSafe>=2.0 in c:\\program files\\python38\\lib\\site-packages (from jinja2->torch>=2.0->-r requirements.txt (line 2)) (2.1.3)\n",
      "Requirement already satisfied: six>=1.5 in c:\\program files\\python38\\lib\\site-packages (from python-dateutil>=2.8.1->pandas>=1.5->-r requirements.txt (line 4)) (1.17.0)\n",
      "Requirement already satisfied: charset-normalizer<4,>=2 in c:\\users\\hp\\appdata\\roaming\\python\\python38\\site-packages (from requests<3,>=2.27->streamlit>=1.24->-r requirements.txt (line 1)) (3.3.0)\n",
      "Requirement already satisfied: idna<4,>=2.5 in c:\\program files\\python38\\lib\\site-packages (from requests<3,>=2.27->streamlit>=1.24->-r requirements.txt (line 1)) (3.10)\n",
      "Requirement already satisfied: urllib3<3,>=1.21.1 in c:\\program files\\python38\\lib\\site-packages (from requests<3,>=2.27->streamlit>=1.24->-r requirements.txt (line 1)) (1.26.20)\n",
      "Requirement already satisfied: certifi>=2017.4.17 in c:\\users\\hp\\appdata\\roaming\\python\\python38\\site-packages (from requests<3,>=2.27->streamlit>=1.24->-r requirements.txt (line 1)) (2023.7.22)\n",
      "Requirement already satisfied: commonmark<0.10.0,>=0.9.0 in c:\\program files\\python38\\lib\\site-packages (from rich<14,>=10.14.0->streamlit>=1.24->-r requirements.txt (line 1)) (0.9.1)\n",
      "Requirement already satisfied: pygments<3.0.0,>=2.6.0 in c:\\program files\\python38\\lib\\site-packages (from rich<14,>=10.14.0->streamlit>=1.24->-r requirements.txt (line 1)) (2.17.2)\n",
      "Requirement already satisfied: mpmath>=0.19 in c:\\program files\\python38\\lib\\site-packages (from sympy->torch>=2.0->-r requirements.txt (line 2)) (1.3.0)\n",
      "Requirement already satisfied: smmap<6,>=3.0.1 in c:\\program files\\python38\\lib\\site-packages (from gitdb<5,>=4.0.1->gitpython!=3.1.19,<4,>=3.0.7->streamlit>=1.24->-r requirements.txt (line 1)) (5.0.1)\n",
      "Requirement already satisfied: attrs>=17.4.0 in c:\\program files\\python38\\lib\\site-packages (from jsonschema->altair<6,>=4.0->streamlit>=1.24->-r requirements.txt (line 1)) (24.2.0)\n",
      "Requirement already satisfied: pyrsistent>=0.14.0 in c:\\program files\\python38\\lib\\site-packages (from jsonschema->altair<6,>=4.0->streamlit>=1.24->-r requirements.txt (line 1)) (0.20.0)\n",
      "Requirement already satisfied: setuptools in c:\\program files\\python38\\lib\\site-packages (from jsonschema->altair<6,>=4.0->streamlit>=1.24->-r requirements.txt (line 1)) (75.3.2)\n"
     ]
    },
    {
     "name": "stderr",
     "output_type": "stream",
     "text": [
      "WARNING: Ignoring invalid distribution -treamlit (c:\\program files\\python38\\lib\\site-packages)\n",
      "WARNING: Ignoring invalid distribution -treamlit (c:\\program files\\python38\\lib\\site-packages)\n",
      "WARNING: Ignoring invalid distribution -treamlit (c:\\program files\\python38\\lib\\site-packages)\n"
     ]
    }
   ],
   "source": [
    "!pip install -r requirements.txt"
   ]
  },
  {
   "cell_type": "code",
   "execution_count": 6,
   "id": "ebae6a2f",
   "metadata": {},
   "outputs": [
    {
     "name": "stdout",
     "output_type": "stream",
     "text": [
      "Requirement already satisfied: pyngrok in c:\\program files\\python38\\lib\\site-packages (7.2.2)\n",
      "Requirement already satisfied: PyYAML>=5.1 in c:\\program files\\python38\\lib\\site-packages (from pyngrok) (6.0.1)\n"
     ]
    },
    {
     "name": "stderr",
     "output_type": "stream",
     "text": [
      "WARNING: Ignoring invalid distribution -treamlit (c:\\program files\\python38\\lib\\site-packages)\n",
      "WARNING: Ignoring invalid distribution -treamlit (c:\\program files\\python38\\lib\\site-packages)\n",
      "WARNING: Ignoring invalid distribution -treamlit (c:\\program files\\python38\\lib\\site-packages)\n"
     ]
    }
   ],
   "source": [
    "!pip install pyngrok"
   ]
  },
  {
   "cell_type": "code",
   "execution_count": 7,
   "id": "79cc69c4",
   "metadata": {},
   "outputs": [
    {
     "name": "stdout",
     "output_type": "stream",
     "text": [
      "Authtoken saved to configuration file: C:\\Users\\hp\\AppData\\Local/ngrok/ngrok.yml\n"
     ]
    }
   ],
   "source": [
    "!ngrok config add-authtoken 2zsiktPjx6PAhix6ZdPW6dxe3NE_88Qr4Env8mp6VqvFxDxmi"
   ]
  },
  {
   "cell_type": "code",
   "execution_count": 8,
   "id": "64ecdde5",
   "metadata": {},
   "outputs": [
    {
     "name": "stdout",
     "output_type": "stream",
     "text": [
      "^C\n"
     ]
    }
   ],
   "source": [
    "!streamlit run App.py"
   ]
  }
 ],
 "metadata": {
  "kernelspec": {
   "display_name": "Python 3",
   "language": "python",
   "name": "python3"
  },
  "language_info": {
   "codemirror_mode": {
    "name": "ipython",
    "version": 3
   },
   "file_extension": ".py",
   "mimetype": "text/x-python",
   "name": "python",
   "nbconvert_exporter": "python",
   "pygments_lexer": "ipython3",
   "version": "3.13.1"
  }
 },
 "nbformat": 4,
 "nbformat_minor": 5
}
