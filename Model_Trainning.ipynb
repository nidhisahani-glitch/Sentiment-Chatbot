{
  "nbformat": 4,
  "nbformat_minor": 0,
  "metadata": {
    "colab": {
      "provenance": [],
      "gpuType": "T4"
    },
    "kernelspec": {
      "name": "python3",
      "display_name": "Python 3"
    },
    "language_info": {
      "name": "python"
    },
    "accelerator": "GPU",
    "widgets": {
      "application/vnd.jupyter.widget-state+json": {
        "3fef957bf72144df95ebcf6a8ad51abf": {
          "model_module": "@jupyter-widgets/controls",
          "model_name": "HBoxModel",
          "model_module_version": "1.5.0",
          "state": {
            "_dom_classes": [],
            "_model_module": "@jupyter-widgets/controls",
            "_model_module_version": "1.5.0",
            "_model_name": "HBoxModel",
            "_view_count": null,
            "_view_module": "@jupyter-widgets/controls",
            "_view_module_version": "1.5.0",
            "_view_name": "HBoxView",
            "box_style": "",
            "children": [
              "IPY_MODEL_e55f62acc8d649d381035d51f0b327b5",
              "IPY_MODEL_82f8fae05bc4464f8db6db0fdc5071be",
              "IPY_MODEL_7eab22ec888748c98b4614edb03d1ca9"
            ],
            "layout": "IPY_MODEL_6dd157cfa21140e687f94ad132107152"
          }
        },
        "e55f62acc8d649d381035d51f0b327b5": {
          "model_module": "@jupyter-widgets/controls",
          "model_name": "HTMLModel",
          "model_module_version": "1.5.0",
          "state": {
            "_dom_classes": [],
            "_model_module": "@jupyter-widgets/controls",
            "_model_module_version": "1.5.0",
            "_model_name": "HTMLModel",
            "_view_count": null,
            "_view_module": "@jupyter-widgets/controls",
            "_view_module_version": "1.5.0",
            "_view_name": "HTMLView",
            "description": "",
            "description_tooltip": null,
            "layout": "IPY_MODEL_b41b201769a141a7a50b1fbd5bf30de7",
            "placeholder": "​",
            "style": "IPY_MODEL_f798135dafa34494a41a0a57ecbcfdf9",
            "value": "config.json: 100%"
          }
        },
        "82f8fae05bc4464f8db6db0fdc5071be": {
          "model_module": "@jupyter-widgets/controls",
          "model_name": "FloatProgressModel",
          "model_module_version": "1.5.0",
          "state": {
            "_dom_classes": [],
            "_model_module": "@jupyter-widgets/controls",
            "_model_module_version": "1.5.0",
            "_model_name": "FloatProgressModel",
            "_view_count": null,
            "_view_module": "@jupyter-widgets/controls",
            "_view_module_version": "1.5.0",
            "_view_name": "ProgressView",
            "bar_style": "success",
            "description": "",
            "description_tooltip": null,
            "layout": "IPY_MODEL_5be117fb7d82437ab969bc926e215e78",
            "max": 747,
            "min": 0,
            "orientation": "horizontal",
            "style": "IPY_MODEL_80e84db798ae43d3be8885a8aa675e49",
            "value": 747
          }
        },
        "7eab22ec888748c98b4614edb03d1ca9": {
          "model_module": "@jupyter-widgets/controls",
          "model_name": "HTMLModel",
          "model_module_version": "1.5.0",
          "state": {
            "_dom_classes": [],
            "_model_module": "@jupyter-widgets/controls",
            "_model_module_version": "1.5.0",
            "_model_name": "HTMLModel",
            "_view_count": null,
            "_view_module": "@jupyter-widgets/controls",
            "_view_module_version": "1.5.0",
            "_view_name": "HTMLView",
            "description": "",
            "description_tooltip": null,
            "layout": "IPY_MODEL_9d7e6d3c6be24f009a44e1462c0412cd",
            "placeholder": "​",
            "style": "IPY_MODEL_eeebb8332aaf407e987a7210babce14b",
            "value": " 747/747 [00:00&lt;00:00, 21.9kB/s]"
          }
        },
        "6dd157cfa21140e687f94ad132107152": {
          "model_module": "@jupyter-widgets/base",
          "model_name": "LayoutModel",
          "model_module_version": "1.2.0",
          "state": {
            "_model_module": "@jupyter-widgets/base",
            "_model_module_version": "1.2.0",
            "_model_name": "LayoutModel",
            "_view_count": null,
            "_view_module": "@jupyter-widgets/base",
            "_view_module_version": "1.2.0",
            "_view_name": "LayoutView",
            "align_content": null,
            "align_items": null,
            "align_self": null,
            "border": null,
            "bottom": null,
            "display": null,
            "flex": null,
            "flex_flow": null,
            "grid_area": null,
            "grid_auto_columns": null,
            "grid_auto_flow": null,
            "grid_auto_rows": null,
            "grid_column": null,
            "grid_gap": null,
            "grid_row": null,
            "grid_template_areas": null,
            "grid_template_columns": null,
            "grid_template_rows": null,
            "height": null,
            "justify_content": null,
            "justify_items": null,
            "left": null,
            "margin": null,
            "max_height": null,
            "max_width": null,
            "min_height": null,
            "min_width": null,
            "object_fit": null,
            "object_position": null,
            "order": null,
            "overflow": null,
            "overflow_x": null,
            "overflow_y": null,
            "padding": null,
            "right": null,
            "top": null,
            "visibility": null,
            "width": null
          }
        },
        "b41b201769a141a7a50b1fbd5bf30de7": {
          "model_module": "@jupyter-widgets/base",
          "model_name": "LayoutModel",
          "model_module_version": "1.2.0",
          "state": {
            "_model_module": "@jupyter-widgets/base",
            "_model_module_version": "1.2.0",
            "_model_name": "LayoutModel",
            "_view_count": null,
            "_view_module": "@jupyter-widgets/base",
            "_view_module_version": "1.2.0",
            "_view_name": "LayoutView",
            "align_content": null,
            "align_items": null,
            "align_self": null,
            "border": null,
            "bottom": null,
            "display": null,
            "flex": null,
            "flex_flow": null,
            "grid_area": null,
            "grid_auto_columns": null,
            "grid_auto_flow": null,
            "grid_auto_rows": null,
            "grid_column": null,
            "grid_gap": null,
            "grid_row": null,
            "grid_template_areas": null,
            "grid_template_columns": null,
            "grid_template_rows": null,
            "height": null,
            "justify_content": null,
            "justify_items": null,
            "left": null,
            "margin": null,
            "max_height": null,
            "max_width": null,
            "min_height": null,
            "min_width": null,
            "object_fit": null,
            "object_position": null,
            "order": null,
            "overflow": null,
            "overflow_x": null,
            "overflow_y": null,
            "padding": null,
            "right": null,
            "top": null,
            "visibility": null,
            "width": null
          }
        },
        "f798135dafa34494a41a0a57ecbcfdf9": {
          "model_module": "@jupyter-widgets/controls",
          "model_name": "DescriptionStyleModel",
          "model_module_version": "1.5.0",
          "state": {
            "_model_module": "@jupyter-widgets/controls",
            "_model_module_version": "1.5.0",
            "_model_name": "DescriptionStyleModel",
            "_view_count": null,
            "_view_module": "@jupyter-widgets/base",
            "_view_module_version": "1.2.0",
            "_view_name": "StyleView",
            "description_width": ""
          }
        },
        "5be117fb7d82437ab969bc926e215e78": {
          "model_module": "@jupyter-widgets/base",
          "model_name": "LayoutModel",
          "model_module_version": "1.2.0",
          "state": {
            "_model_module": "@jupyter-widgets/base",
            "_model_module_version": "1.2.0",
            "_model_name": "LayoutModel",
            "_view_count": null,
            "_view_module": "@jupyter-widgets/base",
            "_view_module_version": "1.2.0",
            "_view_name": "LayoutView",
            "align_content": null,
            "align_items": null,
            "align_self": null,
            "border": null,
            "bottom": null,
            "display": null,
            "flex": null,
            "flex_flow": null,
            "grid_area": null,
            "grid_auto_columns": null,
            "grid_auto_flow": null,
            "grid_auto_rows": null,
            "grid_column": null,
            "grid_gap": null,
            "grid_row": null,
            "grid_template_areas": null,
            "grid_template_columns": null,
            "grid_template_rows": null,
            "height": null,
            "justify_content": null,
            "justify_items": null,
            "left": null,
            "margin": null,
            "max_height": null,
            "max_width": null,
            "min_height": null,
            "min_width": null,
            "object_fit": null,
            "object_position": null,
            "order": null,
            "overflow": null,
            "overflow_x": null,
            "overflow_y": null,
            "padding": null,
            "right": null,
            "top": null,
            "visibility": null,
            "width": null
          }
        },
        "80e84db798ae43d3be8885a8aa675e49": {
          "model_module": "@jupyter-widgets/controls",
          "model_name": "ProgressStyleModel",
          "model_module_version": "1.5.0",
          "state": {
            "_model_module": "@jupyter-widgets/controls",
            "_model_module_version": "1.5.0",
            "_model_name": "ProgressStyleModel",
            "_view_count": null,
            "_view_module": "@jupyter-widgets/base",
            "_view_module_version": "1.2.0",
            "_view_name": "StyleView",
            "bar_color": null,
            "description_width": ""
          }
        },
        "9d7e6d3c6be24f009a44e1462c0412cd": {
          "model_module": "@jupyter-widgets/base",
          "model_name": "LayoutModel",
          "model_module_version": "1.2.0",
          "state": {
            "_model_module": "@jupyter-widgets/base",
            "_model_module_version": "1.2.0",
            "_model_name": "LayoutModel",
            "_view_count": null,
            "_view_module": "@jupyter-widgets/base",
            "_view_module_version": "1.2.0",
            "_view_name": "LayoutView",
            "align_content": null,
            "align_items": null,
            "align_self": null,
            "border": null,
            "bottom": null,
            "display": null,
            "flex": null,
            "flex_flow": null,
            "grid_area": null,
            "grid_auto_columns": null,
            "grid_auto_flow": null,
            "grid_auto_rows": null,
            "grid_column": null,
            "grid_gap": null,
            "grid_row": null,
            "grid_template_areas": null,
            "grid_template_columns": null,
            "grid_template_rows": null,
            "height": null,
            "justify_content": null,
            "justify_items": null,
            "left": null,
            "margin": null,
            "max_height": null,
            "max_width": null,
            "min_height": null,
            "min_width": null,
            "object_fit": null,
            "object_position": null,
            "order": null,
            "overflow": null,
            "overflow_x": null,
            "overflow_y": null,
            "padding": null,
            "right": null,
            "top": null,
            "visibility": null,
            "width": null
          }
        },
        "eeebb8332aaf407e987a7210babce14b": {
          "model_module": "@jupyter-widgets/controls",
          "model_name": "DescriptionStyleModel",
          "model_module_version": "1.5.0",
          "state": {
            "_model_module": "@jupyter-widgets/controls",
            "_model_module_version": "1.5.0",
            "_model_name": "DescriptionStyleModel",
            "_view_count": null,
            "_view_module": "@jupyter-widgets/base",
            "_view_module_version": "1.2.0",
            "_view_name": "StyleView",
            "description_width": ""
          }
        },
        "7db5a880c0ca42d2b393a5d57a81d8e6": {
          "model_module": "@jupyter-widgets/controls",
          "model_name": "HBoxModel",
          "model_module_version": "1.5.0",
          "state": {
            "_dom_classes": [],
            "_model_module": "@jupyter-widgets/controls",
            "_model_module_version": "1.5.0",
            "_model_name": "HBoxModel",
            "_view_count": null,
            "_view_module": "@jupyter-widgets/controls",
            "_view_module_version": "1.5.0",
            "_view_name": "HBoxView",
            "box_style": "",
            "children": [
              "IPY_MODEL_24d360adabe345c2886cf565c77f3304",
              "IPY_MODEL_3324cfbb485d4d8e838c34332e17b5b2",
              "IPY_MODEL_2005b34eb628421e8774d1493b1f26fa"
            ],
            "layout": "IPY_MODEL_10f0adb4287f442c9c6229a6e7c7d639"
          }
        },
        "24d360adabe345c2886cf565c77f3304": {
          "model_module": "@jupyter-widgets/controls",
          "model_name": "HTMLModel",
          "model_module_version": "1.5.0",
          "state": {
            "_dom_classes": [],
            "_model_module": "@jupyter-widgets/controls",
            "_model_module_version": "1.5.0",
            "_model_name": "HTMLModel",
            "_view_count": null,
            "_view_module": "@jupyter-widgets/controls",
            "_view_module_version": "1.5.0",
            "_view_name": "HTMLView",
            "description": "",
            "description_tooltip": null,
            "layout": "IPY_MODEL_f0c32c316f3f4b1481604626f44c6ade",
            "placeholder": "​",
            "style": "IPY_MODEL_5c81f184a3c94f6eb5804cb23f407720",
            "value": "vocab.json: "
          }
        },
        "3324cfbb485d4d8e838c34332e17b5b2": {
          "model_module": "@jupyter-widgets/controls",
          "model_name": "FloatProgressModel",
          "model_module_version": "1.5.0",
          "state": {
            "_dom_classes": [],
            "_model_module": "@jupyter-widgets/controls",
            "_model_module_version": "1.5.0",
            "_model_name": "FloatProgressModel",
            "_view_count": null,
            "_view_module": "@jupyter-widgets/controls",
            "_view_module_version": "1.5.0",
            "_view_name": "ProgressView",
            "bar_style": "success",
            "description": "",
            "description_tooltip": null,
            "layout": "IPY_MODEL_d6a68e1908e54e739cd7d740dbd0a32b",
            "max": 1,
            "min": 0,
            "orientation": "horizontal",
            "style": "IPY_MODEL_d7a09493d38b42998ba7a5eb64cf1fae",
            "value": 1
          }
        },
        "2005b34eb628421e8774d1493b1f26fa": {
          "model_module": "@jupyter-widgets/controls",
          "model_name": "HTMLModel",
          "model_module_version": "1.5.0",
          "state": {
            "_dom_classes": [],
            "_model_module": "@jupyter-widgets/controls",
            "_model_module_version": "1.5.0",
            "_model_name": "HTMLModel",
            "_view_count": null,
            "_view_module": "@jupyter-widgets/controls",
            "_view_module_version": "1.5.0",
            "_view_name": "HTMLView",
            "description": "",
            "description_tooltip": null,
            "layout": "IPY_MODEL_93bae033e39f42249ab64395964fcd23",
            "placeholder": "​",
            "style": "IPY_MODEL_7e7b450739614b8bbf5b312bf5e52d87",
            "value": " 899k/? [00:00&lt;00:00, 14.8MB/s]"
          }
        },
        "10f0adb4287f442c9c6229a6e7c7d639": {
          "model_module": "@jupyter-widgets/base",
          "model_name": "LayoutModel",
          "model_module_version": "1.2.0",
          "state": {
            "_model_module": "@jupyter-widgets/base",
            "_model_module_version": "1.2.0",
            "_model_name": "LayoutModel",
            "_view_count": null,
            "_view_module": "@jupyter-widgets/base",
            "_view_module_version": "1.2.0",
            "_view_name": "LayoutView",
            "align_content": null,
            "align_items": null,
            "align_self": null,
            "border": null,
            "bottom": null,
            "display": null,
            "flex": null,
            "flex_flow": null,
            "grid_area": null,
            "grid_auto_columns": null,
            "grid_auto_flow": null,
            "grid_auto_rows": null,
            "grid_column": null,
            "grid_gap": null,
            "grid_row": null,
            "grid_template_areas": null,
            "grid_template_columns": null,
            "grid_template_rows": null,
            "height": null,
            "justify_content": null,
            "justify_items": null,
            "left": null,
            "margin": null,
            "max_height": null,
            "max_width": null,
            "min_height": null,
            "min_width": null,
            "object_fit": null,
            "object_position": null,
            "order": null,
            "overflow": null,
            "overflow_x": null,
            "overflow_y": null,
            "padding": null,
            "right": null,
            "top": null,
            "visibility": null,
            "width": null
          }
        },
        "f0c32c316f3f4b1481604626f44c6ade": {
          "model_module": "@jupyter-widgets/base",
          "model_name": "LayoutModel",
          "model_module_version": "1.2.0",
          "state": {
            "_model_module": "@jupyter-widgets/base",
            "_model_module_version": "1.2.0",
            "_model_name": "LayoutModel",
            "_view_count": null,
            "_view_module": "@jupyter-widgets/base",
            "_view_module_version": "1.2.0",
            "_view_name": "LayoutView",
            "align_content": null,
            "align_items": null,
            "align_self": null,
            "border": null,
            "bottom": null,
            "display": null,
            "flex": null,
            "flex_flow": null,
            "grid_area": null,
            "grid_auto_columns": null,
            "grid_auto_flow": null,
            "grid_auto_rows": null,
            "grid_column": null,
            "grid_gap": null,
            "grid_row": null,
            "grid_template_areas": null,
            "grid_template_columns": null,
            "grid_template_rows": null,
            "height": null,
            "justify_content": null,
            "justify_items": null,
            "left": null,
            "margin": null,
            "max_height": null,
            "max_width": null,
            "min_height": null,
            "min_width": null,
            "object_fit": null,
            "object_position": null,
            "order": null,
            "overflow": null,
            "overflow_x": null,
            "overflow_y": null,
            "padding": null,
            "right": null,
            "top": null,
            "visibility": null,
            "width": null
          }
        },
        "5c81f184a3c94f6eb5804cb23f407720": {
          "model_module": "@jupyter-widgets/controls",
          "model_name": "DescriptionStyleModel",
          "model_module_version": "1.5.0",
          "state": {
            "_model_module": "@jupyter-widgets/controls",
            "_model_module_version": "1.5.0",
            "_model_name": "DescriptionStyleModel",
            "_view_count": null,
            "_view_module": "@jupyter-widgets/base",
            "_view_module_version": "1.2.0",
            "_view_name": "StyleView",
            "description_width": ""
          }
        },
        "d6a68e1908e54e739cd7d740dbd0a32b": {
          "model_module": "@jupyter-widgets/base",
          "model_name": "LayoutModel",
          "model_module_version": "1.2.0",
          "state": {
            "_model_module": "@jupyter-widgets/base",
            "_model_module_version": "1.2.0",
            "_model_name": "LayoutModel",
            "_view_count": null,
            "_view_module": "@jupyter-widgets/base",
            "_view_module_version": "1.2.0",
            "_view_name": "LayoutView",
            "align_content": null,
            "align_items": null,
            "align_self": null,
            "border": null,
            "bottom": null,
            "display": null,
            "flex": null,
            "flex_flow": null,
            "grid_area": null,
            "grid_auto_columns": null,
            "grid_auto_flow": null,
            "grid_auto_rows": null,
            "grid_column": null,
            "grid_gap": null,
            "grid_row": null,
            "grid_template_areas": null,
            "grid_template_columns": null,
            "grid_template_rows": null,
            "height": null,
            "justify_content": null,
            "justify_items": null,
            "left": null,
            "margin": null,
            "max_height": null,
            "max_width": null,
            "min_height": null,
            "min_width": null,
            "object_fit": null,
            "object_position": null,
            "order": null,
            "overflow": null,
            "overflow_x": null,
            "overflow_y": null,
            "padding": null,
            "right": null,
            "top": null,
            "visibility": null,
            "width": "20px"
          }
        },
        "d7a09493d38b42998ba7a5eb64cf1fae": {
          "model_module": "@jupyter-widgets/controls",
          "model_name": "ProgressStyleModel",
          "model_module_version": "1.5.0",
          "state": {
            "_model_module": "@jupyter-widgets/controls",
            "_model_module_version": "1.5.0",
            "_model_name": "ProgressStyleModel",
            "_view_count": null,
            "_view_module": "@jupyter-widgets/base",
            "_view_module_version": "1.2.0",
            "_view_name": "StyleView",
            "bar_color": null,
            "description_width": ""
          }
        },
        "93bae033e39f42249ab64395964fcd23": {
          "model_module": "@jupyter-widgets/base",
          "model_name": "LayoutModel",
          "model_module_version": "1.2.0",
          "state": {
            "_model_module": "@jupyter-widgets/base",
            "_model_module_version": "1.2.0",
            "_model_name": "LayoutModel",
            "_view_count": null,
            "_view_module": "@jupyter-widgets/base",
            "_view_module_version": "1.2.0",
            "_view_name": "LayoutView",
            "align_content": null,
            "align_items": null,
            "align_self": null,
            "border": null,
            "bottom": null,
            "display": null,
            "flex": null,
            "flex_flow": null,
            "grid_area": null,
            "grid_auto_columns": null,
            "grid_auto_flow": null,
            "grid_auto_rows": null,
            "grid_column": null,
            "grid_gap": null,
            "grid_row": null,
            "grid_template_areas": null,
            "grid_template_columns": null,
            "grid_template_rows": null,
            "height": null,
            "justify_content": null,
            "justify_items": null,
            "left": null,
            "margin": null,
            "max_height": null,
            "max_width": null,
            "min_height": null,
            "min_width": null,
            "object_fit": null,
            "object_position": null,
            "order": null,
            "overflow": null,
            "overflow_x": null,
            "overflow_y": null,
            "padding": null,
            "right": null,
            "top": null,
            "visibility": null,
            "width": null
          }
        },
        "7e7b450739614b8bbf5b312bf5e52d87": {
          "model_module": "@jupyter-widgets/controls",
          "model_name": "DescriptionStyleModel",
          "model_module_version": "1.5.0",
          "state": {
            "_model_module": "@jupyter-widgets/controls",
            "_model_module_version": "1.5.0",
            "_model_name": "DescriptionStyleModel",
            "_view_count": null,
            "_view_module": "@jupyter-widgets/base",
            "_view_module_version": "1.2.0",
            "_view_name": "StyleView",
            "description_width": ""
          }
        },
        "8f4e594f5c70413b9945d2a09f496c06": {
          "model_module": "@jupyter-widgets/controls",
          "model_name": "HBoxModel",
          "model_module_version": "1.5.0",
          "state": {
            "_dom_classes": [],
            "_model_module": "@jupyter-widgets/controls",
            "_model_module_version": "1.5.0",
            "_model_name": "HBoxModel",
            "_view_count": null,
            "_view_module": "@jupyter-widgets/controls",
            "_view_module_version": "1.5.0",
            "_view_name": "HBoxView",
            "box_style": "",
            "children": [
              "IPY_MODEL_c3bf7928f2d24e28b75f630d12f31e89",
              "IPY_MODEL_032d3e403ea74866a45cd12667c7a63d",
              "IPY_MODEL_a94fc856427b4733b55dd8a69fe7b2b4"
            ],
            "layout": "IPY_MODEL_506fefb9e9764605b576920488cfd3dd"
          }
        },
        "c3bf7928f2d24e28b75f630d12f31e89": {
          "model_module": "@jupyter-widgets/controls",
          "model_name": "HTMLModel",
          "model_module_version": "1.5.0",
          "state": {
            "_dom_classes": [],
            "_model_module": "@jupyter-widgets/controls",
            "_model_module_version": "1.5.0",
            "_model_name": "HTMLModel",
            "_view_count": null,
            "_view_module": "@jupyter-widgets/controls",
            "_view_module_version": "1.5.0",
            "_view_name": "HTMLView",
            "description": "",
            "description_tooltip": null,
            "layout": "IPY_MODEL_c1e6cf7b25c444d9988d15ff2d5a197a",
            "placeholder": "​",
            "style": "IPY_MODEL_bb70d835fa2e46efb039c5b8fa9c2a1c",
            "value": "merges.txt: "
          }
        },
        "032d3e403ea74866a45cd12667c7a63d": {
          "model_module": "@jupyter-widgets/controls",
          "model_name": "FloatProgressModel",
          "model_module_version": "1.5.0",
          "state": {
            "_dom_classes": [],
            "_model_module": "@jupyter-widgets/controls",
            "_model_module_version": "1.5.0",
            "_model_name": "FloatProgressModel",
            "_view_count": null,
            "_view_module": "@jupyter-widgets/controls",
            "_view_module_version": "1.5.0",
            "_view_name": "ProgressView",
            "bar_style": "success",
            "description": "",
            "description_tooltip": null,
            "layout": "IPY_MODEL_fcc73005bf044b8c959763b08d1ad47d",
            "max": 1,
            "min": 0,
            "orientation": "horizontal",
            "style": "IPY_MODEL_371ba53301ea40759fa7bbed33ea73d4",
            "value": 1
          }
        },
        "a94fc856427b4733b55dd8a69fe7b2b4": {
          "model_module": "@jupyter-widgets/controls",
          "model_name": "HTMLModel",
          "model_module_version": "1.5.0",
          "state": {
            "_dom_classes": [],
            "_model_module": "@jupyter-widgets/controls",
            "_model_module_version": "1.5.0",
            "_model_name": "HTMLModel",
            "_view_count": null,
            "_view_module": "@jupyter-widgets/controls",
            "_view_module_version": "1.5.0",
            "_view_name": "HTMLView",
            "description": "",
            "description_tooltip": null,
            "layout": "IPY_MODEL_7996d669c91b4d2daf0b19fe295461a3",
            "placeholder": "​",
            "style": "IPY_MODEL_c7c902a95cfd405e83859990d68eee1a",
            "value": " 456k/? [00:00&lt;00:00, 7.94MB/s]"
          }
        },
        "506fefb9e9764605b576920488cfd3dd": {
          "model_module": "@jupyter-widgets/base",
          "model_name": "LayoutModel",
          "model_module_version": "1.2.0",
          "state": {
            "_model_module": "@jupyter-widgets/base",
            "_model_module_version": "1.2.0",
            "_model_name": "LayoutModel",
            "_view_count": null,
            "_view_module": "@jupyter-widgets/base",
            "_view_module_version": "1.2.0",
            "_view_name": "LayoutView",
            "align_content": null,
            "align_items": null,
            "align_self": null,
            "border": null,
            "bottom": null,
            "display": null,
            "flex": null,
            "flex_flow": null,
            "grid_area": null,
            "grid_auto_columns": null,
            "grid_auto_flow": null,
            "grid_auto_rows": null,
            "grid_column": null,
            "grid_gap": null,
            "grid_row": null,
            "grid_template_areas": null,
            "grid_template_columns": null,
            "grid_template_rows": null,
            "height": null,
            "justify_content": null,
            "justify_items": null,
            "left": null,
            "margin": null,
            "max_height": null,
            "max_width": null,
            "min_height": null,
            "min_width": null,
            "object_fit": null,
            "object_position": null,
            "order": null,
            "overflow": null,
            "overflow_x": null,
            "overflow_y": null,
            "padding": null,
            "right": null,
            "top": null,
            "visibility": null,
            "width": null
          }
        },
        "c1e6cf7b25c444d9988d15ff2d5a197a": {
          "model_module": "@jupyter-widgets/base",
          "model_name": "LayoutModel",
          "model_module_version": "1.2.0",
          "state": {
            "_model_module": "@jupyter-widgets/base",
            "_model_module_version": "1.2.0",
            "_model_name": "LayoutModel",
            "_view_count": null,
            "_view_module": "@jupyter-widgets/base",
            "_view_module_version": "1.2.0",
            "_view_name": "LayoutView",
            "align_content": null,
            "align_items": null,
            "align_self": null,
            "border": null,
            "bottom": null,
            "display": null,
            "flex": null,
            "flex_flow": null,
            "grid_area": null,
            "grid_auto_columns": null,
            "grid_auto_flow": null,
            "grid_auto_rows": null,
            "grid_column": null,
            "grid_gap": null,
            "grid_row": null,
            "grid_template_areas": null,
            "grid_template_columns": null,
            "grid_template_rows": null,
            "height": null,
            "justify_content": null,
            "justify_items": null,
            "left": null,
            "margin": null,
            "max_height": null,
            "max_width": null,
            "min_height": null,
            "min_width": null,
            "object_fit": null,
            "object_position": null,
            "order": null,
            "overflow": null,
            "overflow_x": null,
            "overflow_y": null,
            "padding": null,
            "right": null,
            "top": null,
            "visibility": null,
            "width": null
          }
        },
        "bb70d835fa2e46efb039c5b8fa9c2a1c": {
          "model_module": "@jupyter-widgets/controls",
          "model_name": "DescriptionStyleModel",
          "model_module_version": "1.5.0",
          "state": {
            "_model_module": "@jupyter-widgets/controls",
            "_model_module_version": "1.5.0",
            "_model_name": "DescriptionStyleModel",
            "_view_count": null,
            "_view_module": "@jupyter-widgets/base",
            "_view_module_version": "1.2.0",
            "_view_name": "StyleView",
            "description_width": ""
          }
        },
        "fcc73005bf044b8c959763b08d1ad47d": {
          "model_module": "@jupyter-widgets/base",
          "model_name": "LayoutModel",
          "model_module_version": "1.2.0",
          "state": {
            "_model_module": "@jupyter-widgets/base",
            "_model_module_version": "1.2.0",
            "_model_name": "LayoutModel",
            "_view_count": null,
            "_view_module": "@jupyter-widgets/base",
            "_view_module_version": "1.2.0",
            "_view_name": "LayoutView",
            "align_content": null,
            "align_items": null,
            "align_self": null,
            "border": null,
            "bottom": null,
            "display": null,
            "flex": null,
            "flex_flow": null,
            "grid_area": null,
            "grid_auto_columns": null,
            "grid_auto_flow": null,
            "grid_auto_rows": null,
            "grid_column": null,
            "grid_gap": null,
            "grid_row": null,
            "grid_template_areas": null,
            "grid_template_columns": null,
            "grid_template_rows": null,
            "height": null,
            "justify_content": null,
            "justify_items": null,
            "left": null,
            "margin": null,
            "max_height": null,
            "max_width": null,
            "min_height": null,
            "min_width": null,
            "object_fit": null,
            "object_position": null,
            "order": null,
            "overflow": null,
            "overflow_x": null,
            "overflow_y": null,
            "padding": null,
            "right": null,
            "top": null,
            "visibility": null,
            "width": "20px"
          }
        },
        "371ba53301ea40759fa7bbed33ea73d4": {
          "model_module": "@jupyter-widgets/controls",
          "model_name": "ProgressStyleModel",
          "model_module_version": "1.5.0",
          "state": {
            "_model_module": "@jupyter-widgets/controls",
            "_model_module_version": "1.5.0",
            "_model_name": "ProgressStyleModel",
            "_view_count": null,
            "_view_module": "@jupyter-widgets/base",
            "_view_module_version": "1.2.0",
            "_view_name": "StyleView",
            "bar_color": null,
            "description_width": ""
          }
        },
        "7996d669c91b4d2daf0b19fe295461a3": {
          "model_module": "@jupyter-widgets/base",
          "model_name": "LayoutModel",
          "model_module_version": "1.2.0",
          "state": {
            "_model_module": "@jupyter-widgets/base",
            "_model_module_version": "1.2.0",
            "_model_name": "LayoutModel",
            "_view_count": null,
            "_view_module": "@jupyter-widgets/base",
            "_view_module_version": "1.2.0",
            "_view_name": "LayoutView",
            "align_content": null,
            "align_items": null,
            "align_self": null,
            "border": null,
            "bottom": null,
            "display": null,
            "flex": null,
            "flex_flow": null,
            "grid_area": null,
            "grid_auto_columns": null,
            "grid_auto_flow": null,
            "grid_auto_rows": null,
            "grid_column": null,
            "grid_gap": null,
            "grid_row": null,
            "grid_template_areas": null,
            "grid_template_columns": null,
            "grid_template_rows": null,
            "height": null,
            "justify_content": null,
            "justify_items": null,
            "left": null,
            "margin": null,
            "max_height": null,
            "max_width": null,
            "min_height": null,
            "min_width": null,
            "object_fit": null,
            "object_position": null,
            "order": null,
            "overflow": null,
            "overflow_x": null,
            "overflow_y": null,
            "padding": null,
            "right": null,
            "top": null,
            "visibility": null,
            "width": null
          }
        },
        "c7c902a95cfd405e83859990d68eee1a": {
          "model_module": "@jupyter-widgets/controls",
          "model_name": "DescriptionStyleModel",
          "model_module_version": "1.5.0",
          "state": {
            "_model_module": "@jupyter-widgets/controls",
            "_model_module_version": "1.5.0",
            "_model_name": "DescriptionStyleModel",
            "_view_count": null,
            "_view_module": "@jupyter-widgets/base",
            "_view_module_version": "1.2.0",
            "_view_name": "StyleView",
            "description_width": ""
          }
        },
        "4382f642c93940409b3e070d9ed0eac7": {
          "model_module": "@jupyter-widgets/controls",
          "model_name": "HBoxModel",
          "model_module_version": "1.5.0",
          "state": {
            "_dom_classes": [],
            "_model_module": "@jupyter-widgets/controls",
            "_model_module_version": "1.5.0",
            "_model_name": "HBoxModel",
            "_view_count": null,
            "_view_module": "@jupyter-widgets/controls",
            "_view_module_version": "1.5.0",
            "_view_name": "HBoxView",
            "box_style": "",
            "children": [
              "IPY_MODEL_c9a37bec4e9a4e3aa868e2f40f6537a8",
              "IPY_MODEL_88f993d3c8ed4a5798ff72d95fa8ac23",
              "IPY_MODEL_be9ba50389794940ad5edbce6f943313"
            ],
            "layout": "IPY_MODEL_15e518791fdb4161bdf6bbe0f70eca91"
          }
        },
        "c9a37bec4e9a4e3aa868e2f40f6537a8": {
          "model_module": "@jupyter-widgets/controls",
          "model_name": "HTMLModel",
          "model_module_version": "1.5.0",
          "state": {
            "_dom_classes": [],
            "_model_module": "@jupyter-widgets/controls",
            "_model_module_version": "1.5.0",
            "_model_name": "HTMLModel",
            "_view_count": null,
            "_view_module": "@jupyter-widgets/controls",
            "_view_module_version": "1.5.0",
            "_view_name": "HTMLView",
            "description": "",
            "description_tooltip": null,
            "layout": "IPY_MODEL_b37ee6bddbe84e9491746741294545cd",
            "placeholder": "​",
            "style": "IPY_MODEL_cbbe71b7f3914c74ad2ff338b5f7bed2",
            "value": "special_tokens_map.json: 100%"
          }
        },
        "88f993d3c8ed4a5798ff72d95fa8ac23": {
          "model_module": "@jupyter-widgets/controls",
          "model_name": "FloatProgressModel",
          "model_module_version": "1.5.0",
          "state": {
            "_dom_classes": [],
            "_model_module": "@jupyter-widgets/controls",
            "_model_module_version": "1.5.0",
            "_model_name": "FloatProgressModel",
            "_view_count": null,
            "_view_module": "@jupyter-widgets/controls",
            "_view_module_version": "1.5.0",
            "_view_name": "ProgressView",
            "bar_style": "success",
            "description": "",
            "description_tooltip": null,
            "layout": "IPY_MODEL_42117fd0a3df41ecb06d53e631b21337",
            "max": 150,
            "min": 0,
            "orientation": "horizontal",
            "style": "IPY_MODEL_dff3ae6e198040c8a49fec4079c9ba79",
            "value": 150
          }
        },
        "be9ba50389794940ad5edbce6f943313": {
          "model_module": "@jupyter-widgets/controls",
          "model_name": "HTMLModel",
          "model_module_version": "1.5.0",
          "state": {
            "_dom_classes": [],
            "_model_module": "@jupyter-widgets/controls",
            "_model_module_version": "1.5.0",
            "_model_name": "HTMLModel",
            "_view_count": null,
            "_view_module": "@jupyter-widgets/controls",
            "_view_module_version": "1.5.0",
            "_view_name": "HTMLView",
            "description": "",
            "description_tooltip": null,
            "layout": "IPY_MODEL_b227fce4168f480284fc872692e16873",
            "placeholder": "​",
            "style": "IPY_MODEL_a63df522c7fb416c912cc1c60f910d48",
            "value": " 150/150 [00:00&lt;00:00, 3.46kB/s]"
          }
        },
        "15e518791fdb4161bdf6bbe0f70eca91": {
          "model_module": "@jupyter-widgets/base",
          "model_name": "LayoutModel",
          "model_module_version": "1.2.0",
          "state": {
            "_model_module": "@jupyter-widgets/base",
            "_model_module_version": "1.2.0",
            "_model_name": "LayoutModel",
            "_view_count": null,
            "_view_module": "@jupyter-widgets/base",
            "_view_module_version": "1.2.0",
            "_view_name": "LayoutView",
            "align_content": null,
            "align_items": null,
            "align_self": null,
            "border": null,
            "bottom": null,
            "display": null,
            "flex": null,
            "flex_flow": null,
            "grid_area": null,
            "grid_auto_columns": null,
            "grid_auto_flow": null,
            "grid_auto_rows": null,
            "grid_column": null,
            "grid_gap": null,
            "grid_row": null,
            "grid_template_areas": null,
            "grid_template_columns": null,
            "grid_template_rows": null,
            "height": null,
            "justify_content": null,
            "justify_items": null,
            "left": null,
            "margin": null,
            "max_height": null,
            "max_width": null,
            "min_height": null,
            "min_width": null,
            "object_fit": null,
            "object_position": null,
            "order": null,
            "overflow": null,
            "overflow_x": null,
            "overflow_y": null,
            "padding": null,
            "right": null,
            "top": null,
            "visibility": null,
            "width": null
          }
        },
        "b37ee6bddbe84e9491746741294545cd": {
          "model_module": "@jupyter-widgets/base",
          "model_name": "LayoutModel",
          "model_module_version": "1.2.0",
          "state": {
            "_model_module": "@jupyter-widgets/base",
            "_model_module_version": "1.2.0",
            "_model_name": "LayoutModel",
            "_view_count": null,
            "_view_module": "@jupyter-widgets/base",
            "_view_module_version": "1.2.0",
            "_view_name": "LayoutView",
            "align_content": null,
            "align_items": null,
            "align_self": null,
            "border": null,
            "bottom": null,
            "display": null,
            "flex": null,
            "flex_flow": null,
            "grid_area": null,
            "grid_auto_columns": null,
            "grid_auto_flow": null,
            "grid_auto_rows": null,
            "grid_column": null,
            "grid_gap": null,
            "grid_row": null,
            "grid_template_areas": null,
            "grid_template_columns": null,
            "grid_template_rows": null,
            "height": null,
            "justify_content": null,
            "justify_items": null,
            "left": null,
            "margin": null,
            "max_height": null,
            "max_width": null,
            "min_height": null,
            "min_width": null,
            "object_fit": null,
            "object_position": null,
            "order": null,
            "overflow": null,
            "overflow_x": null,
            "overflow_y": null,
            "padding": null,
            "right": null,
            "top": null,
            "visibility": null,
            "width": null
          }
        },
        "cbbe71b7f3914c74ad2ff338b5f7bed2": {
          "model_module": "@jupyter-widgets/controls",
          "model_name": "DescriptionStyleModel",
          "model_module_version": "1.5.0",
          "state": {
            "_model_module": "@jupyter-widgets/controls",
            "_model_module_version": "1.5.0",
            "_model_name": "DescriptionStyleModel",
            "_view_count": null,
            "_view_module": "@jupyter-widgets/base",
            "_view_module_version": "1.2.0",
            "_view_name": "StyleView",
            "description_width": ""
          }
        },
        "42117fd0a3df41ecb06d53e631b21337": {
          "model_module": "@jupyter-widgets/base",
          "model_name": "LayoutModel",
          "model_module_version": "1.2.0",
          "state": {
            "_model_module": "@jupyter-widgets/base",
            "_model_module_version": "1.2.0",
            "_model_name": "LayoutModel",
            "_view_count": null,
            "_view_module": "@jupyter-widgets/base",
            "_view_module_version": "1.2.0",
            "_view_name": "LayoutView",
            "align_content": null,
            "align_items": null,
            "align_self": null,
            "border": null,
            "bottom": null,
            "display": null,
            "flex": null,
            "flex_flow": null,
            "grid_area": null,
            "grid_auto_columns": null,
            "grid_auto_flow": null,
            "grid_auto_rows": null,
            "grid_column": null,
            "grid_gap": null,
            "grid_row": null,
            "grid_template_areas": null,
            "grid_template_columns": null,
            "grid_template_rows": null,
            "height": null,
            "justify_content": null,
            "justify_items": null,
            "left": null,
            "margin": null,
            "max_height": null,
            "max_width": null,
            "min_height": null,
            "min_width": null,
            "object_fit": null,
            "object_position": null,
            "order": null,
            "overflow": null,
            "overflow_x": null,
            "overflow_y": null,
            "padding": null,
            "right": null,
            "top": null,
            "visibility": null,
            "width": null
          }
        },
        "dff3ae6e198040c8a49fec4079c9ba79": {
          "model_module": "@jupyter-widgets/controls",
          "model_name": "ProgressStyleModel",
          "model_module_version": "1.5.0",
          "state": {
            "_model_module": "@jupyter-widgets/controls",
            "_model_module_version": "1.5.0",
            "_model_name": "ProgressStyleModel",
            "_view_count": null,
            "_view_module": "@jupyter-widgets/base",
            "_view_module_version": "1.2.0",
            "_view_name": "StyleView",
            "bar_color": null,
            "description_width": ""
          }
        },
        "b227fce4168f480284fc872692e16873": {
          "model_module": "@jupyter-widgets/base",
          "model_name": "LayoutModel",
          "model_module_version": "1.2.0",
          "state": {
            "_model_module": "@jupyter-widgets/base",
            "_model_module_version": "1.2.0",
            "_model_name": "LayoutModel",
            "_view_count": null,
            "_view_module": "@jupyter-widgets/base",
            "_view_module_version": "1.2.0",
            "_view_name": "LayoutView",
            "align_content": null,
            "align_items": null,
            "align_self": null,
            "border": null,
            "bottom": null,
            "display": null,
            "flex": null,
            "flex_flow": null,
            "grid_area": null,
            "grid_auto_columns": null,
            "grid_auto_flow": null,
            "grid_auto_rows": null,
            "grid_column": null,
            "grid_gap": null,
            "grid_row": null,
            "grid_template_areas": null,
            "grid_template_columns": null,
            "grid_template_rows": null,
            "height": null,
            "justify_content": null,
            "justify_items": null,
            "left": null,
            "margin": null,
            "max_height": null,
            "max_width": null,
            "min_height": null,
            "min_width": null,
            "object_fit": null,
            "object_position": null,
            "order": null,
            "overflow": null,
            "overflow_x": null,
            "overflow_y": null,
            "padding": null,
            "right": null,
            "top": null,
            "visibility": null,
            "width": null
          }
        },
        "a63df522c7fb416c912cc1c60f910d48": {
          "model_module": "@jupyter-widgets/controls",
          "model_name": "DescriptionStyleModel",
          "model_module_version": "1.5.0",
          "state": {
            "_model_module": "@jupyter-widgets/controls",
            "_model_module_version": "1.5.0",
            "_model_name": "DescriptionStyleModel",
            "_view_count": null,
            "_view_module": "@jupyter-widgets/base",
            "_view_module_version": "1.2.0",
            "_view_name": "StyleView",
            "description_width": ""
          }
        },
        "99c5c04c5afc460eb6c0dfa37514ffa8": {
          "model_module": "@jupyter-widgets/controls",
          "model_name": "HBoxModel",
          "model_module_version": "1.5.0",
          "state": {
            "_dom_classes": [],
            "_model_module": "@jupyter-widgets/controls",
            "_model_module_version": "1.5.0",
            "_model_name": "HBoxModel",
            "_view_count": null,
            "_view_module": "@jupyter-widgets/controls",
            "_view_module_version": "1.5.0",
            "_view_name": "HBoxView",
            "box_style": "",
            "children": [
              "IPY_MODEL_50676591bb5f4be9b36dda4ed2d1f6a2",
              "IPY_MODEL_a02ab99eb93e48549a3f930649d05653",
              "IPY_MODEL_d7697acf2f384448a52687e77f8409d1"
            ],
            "layout": "IPY_MODEL_66044dab2c814617a844d04e349b5ce6"
          }
        },
        "50676591bb5f4be9b36dda4ed2d1f6a2": {
          "model_module": "@jupyter-widgets/controls",
          "model_name": "HTMLModel",
          "model_module_version": "1.5.0",
          "state": {
            "_dom_classes": [],
            "_model_module": "@jupyter-widgets/controls",
            "_model_module_version": "1.5.0",
            "_model_name": "HTMLModel",
            "_view_count": null,
            "_view_module": "@jupyter-widgets/controls",
            "_view_module_version": "1.5.0",
            "_view_name": "HTMLView",
            "description": "",
            "description_tooltip": null,
            "layout": "IPY_MODEL_03bf51eb2aed4aa9be3c0557f0cca3a5",
            "placeholder": "​",
            "style": "IPY_MODEL_fc143626fa7b403cb365597ba718667c",
            "value": "pytorch_model.bin: 100%"
          }
        },
        "a02ab99eb93e48549a3f930649d05653": {
          "model_module": "@jupyter-widgets/controls",
          "model_name": "FloatProgressModel",
          "model_module_version": "1.5.0",
          "state": {
            "_dom_classes": [],
            "_model_module": "@jupyter-widgets/controls",
            "_model_module_version": "1.5.0",
            "_model_name": "FloatProgressModel",
            "_view_count": null,
            "_view_module": "@jupyter-widgets/controls",
            "_view_module_version": "1.5.0",
            "_view_name": "ProgressView",
            "bar_style": "success",
            "description": "",
            "description_tooltip": null,
            "layout": "IPY_MODEL_dafafdffb32c400198d6d518b581d51f",
            "max": 498679497,
            "min": 0,
            "orientation": "horizontal",
            "style": "IPY_MODEL_389a43d1ef5d4d668bdf796c010d11f8",
            "value": 498679497
          }
        },
        "d7697acf2f384448a52687e77f8409d1": {
          "model_module": "@jupyter-widgets/controls",
          "model_name": "HTMLModel",
          "model_module_version": "1.5.0",
          "state": {
            "_dom_classes": [],
            "_model_module": "@jupyter-widgets/controls",
            "_model_module_version": "1.5.0",
            "_model_name": "HTMLModel",
            "_view_count": null,
            "_view_module": "@jupyter-widgets/controls",
            "_view_module_version": "1.5.0",
            "_view_name": "HTMLView",
            "description": "",
            "description_tooltip": null,
            "layout": "IPY_MODEL_0111120f34aa4738899c9c1cfe74eab1",
            "placeholder": "​",
            "style": "IPY_MODEL_2b94c39e0c4f4dbbaac00c528a7c8156",
            "value": " 499M/499M [00:09&lt;00:00, 87.2MB/s]"
          }
        },
        "66044dab2c814617a844d04e349b5ce6": {
          "model_module": "@jupyter-widgets/base",
          "model_name": "LayoutModel",
          "model_module_version": "1.2.0",
          "state": {
            "_model_module": "@jupyter-widgets/base",
            "_model_module_version": "1.2.0",
            "_model_name": "LayoutModel",
            "_view_count": null,
            "_view_module": "@jupyter-widgets/base",
            "_view_module_version": "1.2.0",
            "_view_name": "LayoutView",
            "align_content": null,
            "align_items": null,
            "align_self": null,
            "border": null,
            "bottom": null,
            "display": null,
            "flex": null,
            "flex_flow": null,
            "grid_area": null,
            "grid_auto_columns": null,
            "grid_auto_flow": null,
            "grid_auto_rows": null,
            "grid_column": null,
            "grid_gap": null,
            "grid_row": null,
            "grid_template_areas": null,
            "grid_template_columns": null,
            "grid_template_rows": null,
            "height": null,
            "justify_content": null,
            "justify_items": null,
            "left": null,
            "margin": null,
            "max_height": null,
            "max_width": null,
            "min_height": null,
            "min_width": null,
            "object_fit": null,
            "object_position": null,
            "order": null,
            "overflow": null,
            "overflow_x": null,
            "overflow_y": null,
            "padding": null,
            "right": null,
            "top": null,
            "visibility": null,
            "width": null
          }
        },
        "03bf51eb2aed4aa9be3c0557f0cca3a5": {
          "model_module": "@jupyter-widgets/base",
          "model_name": "LayoutModel",
          "model_module_version": "1.2.0",
          "state": {
            "_model_module": "@jupyter-widgets/base",
            "_model_module_version": "1.2.0",
            "_model_name": "LayoutModel",
            "_view_count": null,
            "_view_module": "@jupyter-widgets/base",
            "_view_module_version": "1.2.0",
            "_view_name": "LayoutView",
            "align_content": null,
            "align_items": null,
            "align_self": null,
            "border": null,
            "bottom": null,
            "display": null,
            "flex": null,
            "flex_flow": null,
            "grid_area": null,
            "grid_auto_columns": null,
            "grid_auto_flow": null,
            "grid_auto_rows": null,
            "grid_column": null,
            "grid_gap": null,
            "grid_row": null,
            "grid_template_areas": null,
            "grid_template_columns": null,
            "grid_template_rows": null,
            "height": null,
            "justify_content": null,
            "justify_items": null,
            "left": null,
            "margin": null,
            "max_height": null,
            "max_width": null,
            "min_height": null,
            "min_width": null,
            "object_fit": null,
            "object_position": null,
            "order": null,
            "overflow": null,
            "overflow_x": null,
            "overflow_y": null,
            "padding": null,
            "right": null,
            "top": null,
            "visibility": null,
            "width": null
          }
        },
        "fc143626fa7b403cb365597ba718667c": {
          "model_module": "@jupyter-widgets/controls",
          "model_name": "DescriptionStyleModel",
          "model_module_version": "1.5.0",
          "state": {
            "_model_module": "@jupyter-widgets/controls",
            "_model_module_version": "1.5.0",
            "_model_name": "DescriptionStyleModel",
            "_view_count": null,
            "_view_module": "@jupyter-widgets/base",
            "_view_module_version": "1.2.0",
            "_view_name": "StyleView",
            "description_width": ""
          }
        },
        "dafafdffb32c400198d6d518b581d51f": {
          "model_module": "@jupyter-widgets/base",
          "model_name": "LayoutModel",
          "model_module_version": "1.2.0",
          "state": {
            "_model_module": "@jupyter-widgets/base",
            "_model_module_version": "1.2.0",
            "_model_name": "LayoutModel",
            "_view_count": null,
            "_view_module": "@jupyter-widgets/base",
            "_view_module_version": "1.2.0",
            "_view_name": "LayoutView",
            "align_content": null,
            "align_items": null,
            "align_self": null,
            "border": null,
            "bottom": null,
            "display": null,
            "flex": null,
            "flex_flow": null,
            "grid_area": null,
            "grid_auto_columns": null,
            "grid_auto_flow": null,
            "grid_auto_rows": null,
            "grid_column": null,
            "grid_gap": null,
            "grid_row": null,
            "grid_template_areas": null,
            "grid_template_columns": null,
            "grid_template_rows": null,
            "height": null,
            "justify_content": null,
            "justify_items": null,
            "left": null,
            "margin": null,
            "max_height": null,
            "max_width": null,
            "min_height": null,
            "min_width": null,
            "object_fit": null,
            "object_position": null,
            "order": null,
            "overflow": null,
            "overflow_x": null,
            "overflow_y": null,
            "padding": null,
            "right": null,
            "top": null,
            "visibility": null,
            "width": null
          }
        },
        "389a43d1ef5d4d668bdf796c010d11f8": {
          "model_module": "@jupyter-widgets/controls",
          "model_name": "ProgressStyleModel",
          "model_module_version": "1.5.0",
          "state": {
            "_model_module": "@jupyter-widgets/controls",
            "_model_module_version": "1.5.0",
            "_model_name": "ProgressStyleModel",
            "_view_count": null,
            "_view_module": "@jupyter-widgets/base",
            "_view_module_version": "1.2.0",
            "_view_name": "StyleView",
            "bar_color": null,
            "description_width": ""
          }
        },
        "0111120f34aa4738899c9c1cfe74eab1": {
          "model_module": "@jupyter-widgets/base",
          "model_name": "LayoutModel",
          "model_module_version": "1.2.0",
          "state": {
            "_model_module": "@jupyter-widgets/base",
            "_model_module_version": "1.2.0",
            "_model_name": "LayoutModel",
            "_view_count": null,
            "_view_module": "@jupyter-widgets/base",
            "_view_module_version": "1.2.0",
            "_view_name": "LayoutView",
            "align_content": null,
            "align_items": null,
            "align_self": null,
            "border": null,
            "bottom": null,
            "display": null,
            "flex": null,
            "flex_flow": null,
            "grid_area": null,
            "grid_auto_columns": null,
            "grid_auto_flow": null,
            "grid_auto_rows": null,
            "grid_column": null,
            "grid_gap": null,
            "grid_row": null,
            "grid_template_areas": null,
            "grid_template_columns": null,
            "grid_template_rows": null,
            "height": null,
            "justify_content": null,
            "justify_items": null,
            "left": null,
            "margin": null,
            "max_height": null,
            "max_width": null,
            "min_height": null,
            "min_width": null,
            "object_fit": null,
            "object_position": null,
            "order": null,
            "overflow": null,
            "overflow_x": null,
            "overflow_y": null,
            "padding": null,
            "right": null,
            "top": null,
            "visibility": null,
            "width": null
          }
        },
        "2b94c39e0c4f4dbbaac00c528a7c8156": {
          "model_module": "@jupyter-widgets/controls",
          "model_name": "DescriptionStyleModel",
          "model_module_version": "1.5.0",
          "state": {
            "_model_module": "@jupyter-widgets/controls",
            "_model_module_version": "1.5.0",
            "_model_name": "DescriptionStyleModel",
            "_view_count": null,
            "_view_module": "@jupyter-widgets/base",
            "_view_module_version": "1.2.0",
            "_view_name": "StyleView",
            "description_width": ""
          }
        },
        "93b33d7c33184f849d5177e46f9df399": {
          "model_module": "@jupyter-widgets/controls",
          "model_name": "HBoxModel",
          "model_module_version": "1.5.0",
          "state": {
            "_dom_classes": [],
            "_model_module": "@jupyter-widgets/controls",
            "_model_module_version": "1.5.0",
            "_model_name": "HBoxModel",
            "_view_count": null,
            "_view_module": "@jupyter-widgets/controls",
            "_view_module_version": "1.5.0",
            "_view_name": "HBoxView",
            "box_style": "",
            "children": [
              "IPY_MODEL_45d2998379204a1e9e51b66a2e222665",
              "IPY_MODEL_acc2d9e348614ea2b35c39fac7207037",
              "IPY_MODEL_d1f60b79db304533a418f5d739305068"
            ],
            "layout": "IPY_MODEL_0681bae7afbc4aaf9c7b73177f4da8a9"
          }
        },
        "45d2998379204a1e9e51b66a2e222665": {
          "model_module": "@jupyter-widgets/controls",
          "model_name": "HTMLModel",
          "model_module_version": "1.5.0",
          "state": {
            "_dom_classes": [],
            "_model_module": "@jupyter-widgets/controls",
            "_model_module_version": "1.5.0",
            "_model_name": "HTMLModel",
            "_view_count": null,
            "_view_module": "@jupyter-widgets/controls",
            "_view_module_version": "1.5.0",
            "_view_name": "HTMLView",
            "description": "",
            "description_tooltip": null,
            "layout": "IPY_MODEL_4cb46d87e52440bc8092277a4b3e065f",
            "placeholder": "​",
            "style": "IPY_MODEL_18c593d72a9542e5abb18a3c4da33092",
            "value": "model.safetensors: 100%"
          }
        },
        "acc2d9e348614ea2b35c39fac7207037": {
          "model_module": "@jupyter-widgets/controls",
          "model_name": "FloatProgressModel",
          "model_module_version": "1.5.0",
          "state": {
            "_dom_classes": [],
            "_model_module": "@jupyter-widgets/controls",
            "_model_module_version": "1.5.0",
            "_model_name": "FloatProgressModel",
            "_view_count": null,
            "_view_module": "@jupyter-widgets/controls",
            "_view_module_version": "1.5.0",
            "_view_name": "ProgressView",
            "bar_style": "success",
            "description": "",
            "description_tooltip": null,
            "layout": "IPY_MODEL_b8d5b79f086a4f84aeb9dcbf22a5229c",
            "max": 498620100,
            "min": 0,
            "orientation": "horizontal",
            "style": "IPY_MODEL_07e02986a487443da5b743ccf940dbb3",
            "value": 498620100
          }
        },
        "d1f60b79db304533a418f5d739305068": {
          "model_module": "@jupyter-widgets/controls",
          "model_name": "HTMLModel",
          "model_module_version": "1.5.0",
          "state": {
            "_dom_classes": [],
            "_model_module": "@jupyter-widgets/controls",
            "_model_module_version": "1.5.0",
            "_model_name": "HTMLModel",
            "_view_count": null,
            "_view_module": "@jupyter-widgets/controls",
            "_view_module_version": "1.5.0",
            "_view_name": "HTMLView",
            "description": "",
            "description_tooltip": null,
            "layout": "IPY_MODEL_675ec47cfc1c42aa803485ea9855e674",
            "placeholder": "​",
            "style": "IPY_MODEL_8481e4fc9c784d4aad6b6a5386bf0af0",
            "value": " 499M/499M [00:06&lt;00:00, 87.8MB/s]"
          }
        },
        "0681bae7afbc4aaf9c7b73177f4da8a9": {
          "model_module": "@jupyter-widgets/base",
          "model_name": "LayoutModel",
          "model_module_version": "1.2.0",
          "state": {
            "_model_module": "@jupyter-widgets/base",
            "_model_module_version": "1.2.0",
            "_model_name": "LayoutModel",
            "_view_count": null,
            "_view_module": "@jupyter-widgets/base",
            "_view_module_version": "1.2.0",
            "_view_name": "LayoutView",
            "align_content": null,
            "align_items": null,
            "align_self": null,
            "border": null,
            "bottom": null,
            "display": null,
            "flex": null,
            "flex_flow": null,
            "grid_area": null,
            "grid_auto_columns": null,
            "grid_auto_flow": null,
            "grid_auto_rows": null,
            "grid_column": null,
            "grid_gap": null,
            "grid_row": null,
            "grid_template_areas": null,
            "grid_template_columns": null,
            "grid_template_rows": null,
            "height": null,
            "justify_content": null,
            "justify_items": null,
            "left": null,
            "margin": null,
            "max_height": null,
            "max_width": null,
            "min_height": null,
            "min_width": null,
            "object_fit": null,
            "object_position": null,
            "order": null,
            "overflow": null,
            "overflow_x": null,
            "overflow_y": null,
            "padding": null,
            "right": null,
            "top": null,
            "visibility": null,
            "width": null
          }
        },
        "4cb46d87e52440bc8092277a4b3e065f": {
          "model_module": "@jupyter-widgets/base",
          "model_name": "LayoutModel",
          "model_module_version": "1.2.0",
          "state": {
            "_model_module": "@jupyter-widgets/base",
            "_model_module_version": "1.2.0",
            "_model_name": "LayoutModel",
            "_view_count": null,
            "_view_module": "@jupyter-widgets/base",
            "_view_module_version": "1.2.0",
            "_view_name": "LayoutView",
            "align_content": null,
            "align_items": null,
            "align_self": null,
            "border": null,
            "bottom": null,
            "display": null,
            "flex": null,
            "flex_flow": null,
            "grid_area": null,
            "grid_auto_columns": null,
            "grid_auto_flow": null,
            "grid_auto_rows": null,
            "grid_column": null,
            "grid_gap": null,
            "grid_row": null,
            "grid_template_areas": null,
            "grid_template_columns": null,
            "grid_template_rows": null,
            "height": null,
            "justify_content": null,
            "justify_items": null,
            "left": null,
            "margin": null,
            "max_height": null,
            "max_width": null,
            "min_height": null,
            "min_width": null,
            "object_fit": null,
            "object_position": null,
            "order": null,
            "overflow": null,
            "overflow_x": null,
            "overflow_y": null,
            "padding": null,
            "right": null,
            "top": null,
            "visibility": null,
            "width": null
          }
        },
        "18c593d72a9542e5abb18a3c4da33092": {
          "model_module": "@jupyter-widgets/controls",
          "model_name": "DescriptionStyleModel",
          "model_module_version": "1.5.0",
          "state": {
            "_model_module": "@jupyter-widgets/controls",
            "_model_module_version": "1.5.0",
            "_model_name": "DescriptionStyleModel",
            "_view_count": null,
            "_view_module": "@jupyter-widgets/base",
            "_view_module_version": "1.2.0",
            "_view_name": "StyleView",
            "description_width": ""
          }
        },
        "b8d5b79f086a4f84aeb9dcbf22a5229c": {
          "model_module": "@jupyter-widgets/base",
          "model_name": "LayoutModel",
          "model_module_version": "1.2.0",
          "state": {
            "_model_module": "@jupyter-widgets/base",
            "_model_module_version": "1.2.0",
            "_model_name": "LayoutModel",
            "_view_count": null,
            "_view_module": "@jupyter-widgets/base",
            "_view_module_version": "1.2.0",
            "_view_name": "LayoutView",
            "align_content": null,
            "align_items": null,
            "align_self": null,
            "border": null,
            "bottom": null,
            "display": null,
            "flex": null,
            "flex_flow": null,
            "grid_area": null,
            "grid_auto_columns": null,
            "grid_auto_flow": null,
            "grid_auto_rows": null,
            "grid_column": null,
            "grid_gap": null,
            "grid_row": null,
            "grid_template_areas": null,
            "grid_template_columns": null,
            "grid_template_rows": null,
            "height": null,
            "justify_content": null,
            "justify_items": null,
            "left": null,
            "margin": null,
            "max_height": null,
            "max_width": null,
            "min_height": null,
            "min_width": null,
            "object_fit": null,
            "object_position": null,
            "order": null,
            "overflow": null,
            "overflow_x": null,
            "overflow_y": null,
            "padding": null,
            "right": null,
            "top": null,
            "visibility": null,
            "width": null
          }
        },
        "07e02986a487443da5b743ccf940dbb3": {
          "model_module": "@jupyter-widgets/controls",
          "model_name": "ProgressStyleModel",
          "model_module_version": "1.5.0",
          "state": {
            "_model_module": "@jupyter-widgets/controls",
            "_model_module_version": "1.5.0",
            "_model_name": "ProgressStyleModel",
            "_view_count": null,
            "_view_module": "@jupyter-widgets/base",
            "_view_module_version": "1.2.0",
            "_view_name": "StyleView",
            "bar_color": null,
            "description_width": ""
          }
        },
        "675ec47cfc1c42aa803485ea9855e674": {
          "model_module": "@jupyter-widgets/base",
          "model_name": "LayoutModel",
          "model_module_version": "1.2.0",
          "state": {
            "_model_module": "@jupyter-widgets/base",
            "_model_module_version": "1.2.0",
            "_model_name": "LayoutModel",
            "_view_count": null,
            "_view_module": "@jupyter-widgets/base",
            "_view_module_version": "1.2.0",
            "_view_name": "LayoutView",
            "align_content": null,
            "align_items": null,
            "align_self": null,
            "border": null,
            "bottom": null,
            "display": null,
            "flex": null,
            "flex_flow": null,
            "grid_area": null,
            "grid_auto_columns": null,
            "grid_auto_flow": null,
            "grid_auto_rows": null,
            "grid_column": null,
            "grid_gap": null,
            "grid_row": null,
            "grid_template_areas": null,
            "grid_template_columns": null,
            "grid_template_rows": null,
            "height": null,
            "justify_content": null,
            "justify_items": null,
            "left": null,
            "margin": null,
            "max_height": null,
            "max_width": null,
            "min_height": null,
            "min_width": null,
            "object_fit": null,
            "object_position": null,
            "order": null,
            "overflow": null,
            "overflow_x": null,
            "overflow_y": null,
            "padding": null,
            "right": null,
            "top": null,
            "visibility": null,
            "width": null
          }
        },
        "8481e4fc9c784d4aad6b6a5386bf0af0": {
          "model_module": "@jupyter-widgets/controls",
          "model_name": "DescriptionStyleModel",
          "model_module_version": "1.5.0",
          "state": {
            "_model_module": "@jupyter-widgets/controls",
            "_model_module_version": "1.5.0",
            "_model_name": "DescriptionStyleModel",
            "_view_count": null,
            "_view_module": "@jupyter-widgets/base",
            "_view_module_version": "1.2.0",
            "_view_name": "StyleView",
            "description_width": ""
          }
        },
        "81d518def04e41549da9e334743db012": {
          "model_module": "@jupyter-widgets/controls",
          "model_name": "HBoxModel",
          "model_module_version": "1.5.0",
          "state": {
            "_dom_classes": [],
            "_model_module": "@jupyter-widgets/controls",
            "_model_module_version": "1.5.0",
            "_model_name": "HBoxModel",
            "_view_count": null,
            "_view_module": "@jupyter-widgets/controls",
            "_view_module_version": "1.5.0",
            "_view_name": "HBoxView",
            "box_style": "",
            "children": [
              "IPY_MODEL_2b9b297328884dee8666ec954048b754",
              "IPY_MODEL_469cbe87cfdd4426a5158eb508cdf735",
              "IPY_MODEL_41253981b57c417ca5945f9054829f5f"
            ],
            "layout": "IPY_MODEL_bdf444906e8844b7820042fb8cbb3597"
          }
        },
        "2b9b297328884dee8666ec954048b754": {
          "model_module": "@jupyter-widgets/controls",
          "model_name": "HTMLModel",
          "model_module_version": "1.5.0",
          "state": {
            "_dom_classes": [],
            "_model_module": "@jupyter-widgets/controls",
            "_model_module_version": "1.5.0",
            "_model_name": "HTMLModel",
            "_view_count": null,
            "_view_module": "@jupyter-widgets/controls",
            "_view_module_version": "1.5.0",
            "_view_name": "HTMLView",
            "description": "",
            "description_tooltip": null,
            "layout": "IPY_MODEL_14104bd2660a4122b1a498c4b51148b1",
            "placeholder": "​",
            "style": "IPY_MODEL_d31771e0ad57407f93c60f61043824aa",
            "value": "Map: 100%"
          }
        },
        "469cbe87cfdd4426a5158eb508cdf735": {
          "model_module": "@jupyter-widgets/controls",
          "model_name": "FloatProgressModel",
          "model_module_version": "1.5.0",
          "state": {
            "_dom_classes": [],
            "_model_module": "@jupyter-widgets/controls",
            "_model_module_version": "1.5.0",
            "_model_name": "FloatProgressModel",
            "_view_count": null,
            "_view_module": "@jupyter-widgets/controls",
            "_view_module_version": "1.5.0",
            "_view_name": "ProgressView",
            "bar_style": "success",
            "description": "",
            "description_tooltip": null,
            "layout": "IPY_MODEL_e31613165cf848ec92e3eefa050b5b2d",
            "max": 744,
            "min": 0,
            "orientation": "horizontal",
            "style": "IPY_MODEL_09e04d24b3684371a3fccb9beeaac9bb",
            "value": 744
          }
        },
        "41253981b57c417ca5945f9054829f5f": {
          "model_module": "@jupyter-widgets/controls",
          "model_name": "HTMLModel",
          "model_module_version": "1.5.0",
          "state": {
            "_dom_classes": [],
            "_model_module": "@jupyter-widgets/controls",
            "_model_module_version": "1.5.0",
            "_model_name": "HTMLModel",
            "_view_count": null,
            "_view_module": "@jupyter-widgets/controls",
            "_view_module_version": "1.5.0",
            "_view_name": "HTMLView",
            "description": "",
            "description_tooltip": null,
            "layout": "IPY_MODEL_0502df5fb53d4328b9d583ed3e391cbc",
            "placeholder": "​",
            "style": "IPY_MODEL_7e7173be82ca46a485957a8d209f52bc",
            "value": " 744/744 [00:00&lt;00:00, 3126.16 examples/s]"
          }
        },
        "bdf444906e8844b7820042fb8cbb3597": {
          "model_module": "@jupyter-widgets/base",
          "model_name": "LayoutModel",
          "model_module_version": "1.2.0",
          "state": {
            "_model_module": "@jupyter-widgets/base",
            "_model_module_version": "1.2.0",
            "_model_name": "LayoutModel",
            "_view_count": null,
            "_view_module": "@jupyter-widgets/base",
            "_view_module_version": "1.2.0",
            "_view_name": "LayoutView",
            "align_content": null,
            "align_items": null,
            "align_self": null,
            "border": null,
            "bottom": null,
            "display": null,
            "flex": null,
            "flex_flow": null,
            "grid_area": null,
            "grid_auto_columns": null,
            "grid_auto_flow": null,
            "grid_auto_rows": null,
            "grid_column": null,
            "grid_gap": null,
            "grid_row": null,
            "grid_template_areas": null,
            "grid_template_columns": null,
            "grid_template_rows": null,
            "height": null,
            "justify_content": null,
            "justify_items": null,
            "left": null,
            "margin": null,
            "max_height": null,
            "max_width": null,
            "min_height": null,
            "min_width": null,
            "object_fit": null,
            "object_position": null,
            "order": null,
            "overflow": null,
            "overflow_x": null,
            "overflow_y": null,
            "padding": null,
            "right": null,
            "top": null,
            "visibility": null,
            "width": null
          }
        },
        "14104bd2660a4122b1a498c4b51148b1": {
          "model_module": "@jupyter-widgets/base",
          "model_name": "LayoutModel",
          "model_module_version": "1.2.0",
          "state": {
            "_model_module": "@jupyter-widgets/base",
            "_model_module_version": "1.2.0",
            "_model_name": "LayoutModel",
            "_view_count": null,
            "_view_module": "@jupyter-widgets/base",
            "_view_module_version": "1.2.0",
            "_view_name": "LayoutView",
            "align_content": null,
            "align_items": null,
            "align_self": null,
            "border": null,
            "bottom": null,
            "display": null,
            "flex": null,
            "flex_flow": null,
            "grid_area": null,
            "grid_auto_columns": null,
            "grid_auto_flow": null,
            "grid_auto_rows": null,
            "grid_column": null,
            "grid_gap": null,
            "grid_row": null,
            "grid_template_areas": null,
            "grid_template_columns": null,
            "grid_template_rows": null,
            "height": null,
            "justify_content": null,
            "justify_items": null,
            "left": null,
            "margin": null,
            "max_height": null,
            "max_width": null,
            "min_height": null,
            "min_width": null,
            "object_fit": null,
            "object_position": null,
            "order": null,
            "overflow": null,
            "overflow_x": null,
            "overflow_y": null,
            "padding": null,
            "right": null,
            "top": null,
            "visibility": null,
            "width": null
          }
        },
        "d31771e0ad57407f93c60f61043824aa": {
          "model_module": "@jupyter-widgets/controls",
          "model_name": "DescriptionStyleModel",
          "model_module_version": "1.5.0",
          "state": {
            "_model_module": "@jupyter-widgets/controls",
            "_model_module_version": "1.5.0",
            "_model_name": "DescriptionStyleModel",
            "_view_count": null,
            "_view_module": "@jupyter-widgets/base",
            "_view_module_version": "1.2.0",
            "_view_name": "StyleView",
            "description_width": ""
          }
        },
        "e31613165cf848ec92e3eefa050b5b2d": {
          "model_module": "@jupyter-widgets/base",
          "model_name": "LayoutModel",
          "model_module_version": "1.2.0",
          "state": {
            "_model_module": "@jupyter-widgets/base",
            "_model_module_version": "1.2.0",
            "_model_name": "LayoutModel",
            "_view_count": null,
            "_view_module": "@jupyter-widgets/base",
            "_view_module_version": "1.2.0",
            "_view_name": "LayoutView",
            "align_content": null,
            "align_items": null,
            "align_self": null,
            "border": null,
            "bottom": null,
            "display": null,
            "flex": null,
            "flex_flow": null,
            "grid_area": null,
            "grid_auto_columns": null,
            "grid_auto_flow": null,
            "grid_auto_rows": null,
            "grid_column": null,
            "grid_gap": null,
            "grid_row": null,
            "grid_template_areas": null,
            "grid_template_columns": null,
            "grid_template_rows": null,
            "height": null,
            "justify_content": null,
            "justify_items": null,
            "left": null,
            "margin": null,
            "max_height": null,
            "max_width": null,
            "min_height": null,
            "min_width": null,
            "object_fit": null,
            "object_position": null,
            "order": null,
            "overflow": null,
            "overflow_x": null,
            "overflow_y": null,
            "padding": null,
            "right": null,
            "top": null,
            "visibility": null,
            "width": null
          }
        },
        "09e04d24b3684371a3fccb9beeaac9bb": {
          "model_module": "@jupyter-widgets/controls",
          "model_name": "ProgressStyleModel",
          "model_module_version": "1.5.0",
          "state": {
            "_model_module": "@jupyter-widgets/controls",
            "_model_module_version": "1.5.0",
            "_model_name": "ProgressStyleModel",
            "_view_count": null,
            "_view_module": "@jupyter-widgets/base",
            "_view_module_version": "1.2.0",
            "_view_name": "StyleView",
            "bar_color": null,
            "description_width": ""
          }
        },
        "0502df5fb53d4328b9d583ed3e391cbc": {
          "model_module": "@jupyter-widgets/base",
          "model_name": "LayoutModel",
          "model_module_version": "1.2.0",
          "state": {
            "_model_module": "@jupyter-widgets/base",
            "_model_module_version": "1.2.0",
            "_model_name": "LayoutModel",
            "_view_count": null,
            "_view_module": "@jupyter-widgets/base",
            "_view_module_version": "1.2.0",
            "_view_name": "LayoutView",
            "align_content": null,
            "align_items": null,
            "align_self": null,
            "border": null,
            "bottom": null,
            "display": null,
            "flex": null,
            "flex_flow": null,
            "grid_area": null,
            "grid_auto_columns": null,
            "grid_auto_flow": null,
            "grid_auto_rows": null,
            "grid_column": null,
            "grid_gap": null,
            "grid_row": null,
            "grid_template_areas": null,
            "grid_template_columns": null,
            "grid_template_rows": null,
            "height": null,
            "justify_content": null,
            "justify_items": null,
            "left": null,
            "margin": null,
            "max_height": null,
            "max_width": null,
            "min_height": null,
            "min_width": null,
            "object_fit": null,
            "object_position": null,
            "order": null,
            "overflow": null,
            "overflow_x": null,
            "overflow_y": null,
            "padding": null,
            "right": null,
            "top": null,
            "visibility": null,
            "width": null
          }
        },
        "7e7173be82ca46a485957a8d209f52bc": {
          "model_module": "@jupyter-widgets/controls",
          "model_name": "DescriptionStyleModel",
          "model_module_version": "1.5.0",
          "state": {
            "_model_module": "@jupyter-widgets/controls",
            "_model_module_version": "1.5.0",
            "_model_name": "DescriptionStyleModel",
            "_view_count": null,
            "_view_module": "@jupyter-widgets/base",
            "_view_module_version": "1.2.0",
            "_view_name": "StyleView",
            "description_width": ""
          }
        }
      }
    }
  },
  "cells": [
    {
      "cell_type": "markdown",
      "source": [
        "# **MODEL NAME - RoBERTa**"
      ],
      "metadata": {
        "id": "FGmLqgV8Pjk2"
      }
    },
    {
      "cell_type": "markdown",
      "source": [
        "## **My First Attempt (Model Trainning)**"
      ],
      "metadata": {
        "id": "2hoB48biC6wK"
      }
    },
    {
      "cell_type": "markdown",
      "source": [
        "### First install for spelling correction"
      ],
      "metadata": {
        "id": "5Z-a6gEW0V2g"
      }
    },
    {
      "cell_type": "code",
      "source": [
        "!pip install pyspellchecker"
      ],
      "metadata": {
        "colab": {
          "base_uri": "https://localhost:8080/"
        },
        "id": "Re0m1mhhmvMY",
        "outputId": "a2a0cdf5-98fc-4c11-e046-4c1c20163a59"
      },
      "execution_count": 6,
      "outputs": [
        {
          "output_type": "stream",
          "name": "stdout",
          "text": [
            "Requirement already satisfied: pyspellchecker in /usr/local/lib/python3.11/dist-packages (0.8.3)\n"
          ]
        }
      ]
    },
    {
      "cell_type": "markdown",
      "source": [
        "### Text Cleaning and Preprocessing"
      ],
      "metadata": {
        "id": "o1pqDCCfqw4f"
      }
    },
    {
      "cell_type": "code",
      "execution_count": 7,
      "metadata": {
        "id": "jDIdKZSBl8Ep"
      },
      "outputs": [],
      "source": [
        "import pandas as pd\n",
        "import re\n",
        "from spellchecker import SpellChecker\n",
        "\n",
        "spell = SpellChecker()\n",
        "\n",
        "# This is the function to clean and preprocess text\n",
        "def clean_text(text):\n",
        "    if not isinstance(text, str) or text.strip() in ['', '.', '..', '...', '!', ',', 'na', 'Ntg', 'Nil', 'no', 'No', 'None', 'no thanks']:\n",
        "        return '', True\n",
        "    # Remove special characters and emojis\n",
        "    text = re.sub(r'[^\\w\\s]', '', text)\n",
        "    # Convert to lowercase\n",
        "    text = text.lower()\n",
        "    # Correct typos\n",
        "    words = text.split()\n",
        "    corrected_words = [spell.correction(word) if spell.correction(word) is not None else word for word in words]\n",
        "    text = ' '.join(corrected_words)\n",
        "    # Remove extra whitespace\n",
        "    text = ' '.join(text.split())\n",
        "    return text, False"
      ]
    },
    {
      "cell_type": "markdown",
      "source": [
        "### Sentiment Label Assignment for Feedback"
      ],
      "metadata": {
        "id": "Vm0RGFg3q-ax"
      }
    },
    {
      "cell_type": "code",
      "source": [
        "# This is the function to assign labels based on score and text content\n",
        "def assign_label(row):\n",
        "    text, is_no_match = row['Cleaned_Feedback'], row['Is_No_Match']\n",
        "    score = row['Score']\n",
        "\n",
        "    # Handle No Match cases\n",
        "    no_match_phrases = ['thank you', 'thanks', 'no comments', 'no suggestion', 'no thanks', 'nothing']\n",
        "    if is_no_match or any(phrase in text.lower() for phrase in no_match_phrases):\n",
        "        return 'No Match'\n",
        "\n",
        "    # labeling on score-based\n",
        "    if score == 1.0:\n",
        "        label = 'Positive'\n",
        "    elif score == 3.0:\n",
        "        label = 'Negative'  # to avoid misclassification\n",
        "    elif score == 2.0:\n",
        "        label = 'Neutral'\n",
        "    elif score == 4.0:\n",
        "        label = 'No Match'\n",
        "    else:\n",
        "        label = 'Neutral'  # default\n",
        "\n",
        "    # validation on text-based (only adjust if score is not 3.0 to prevent Positive-to-Negative errors)\n",
        "    positive_keywords = ['great', 'good', 'happy', 'awesome', 'excellent', 'supportive', 'amazing', 'proud', 'smooth', 'wonderful']\n",
        "    negative_keywords = ['no support', 'pressure', 'stress', 'not supportive', 'low salary', 'politics', 'unfair', 'miscommunication', 'lack', 'difficult', 'harass', 'poor']\n",
        "\n",
        "    text_lower = text.lower()\n",
        "    if score != 3.0:  # again classify non-Negative scores\n",
        "        if any(keyword in text_lower for keyword in positive_keywords) and not any(keyword in text_lower for keyword in negative_keywords):\n",
        "            if label == 'Neutral' and score == 2.0:\n",
        "                label = 'Positive'\n",
        "        elif any(keyword in text_lower for keyword in negative_keywords) and not any(keyword in text_lower for keyword in positive_keywords):\n",
        "            if label == 'Positive' and score == 1.0:\n",
        "                label = 'Neutral'  # lower Positive to Neutral if negative sentiment is strong\n",
        "            elif label == 'Neutral' and score == 2.0:\n",
        "                label = 'Negative'\n",
        "\n",
        "    return label"
      ],
      "metadata": {
        "id": "7SWGA5pcnOkA"
      },
      "execution_count": 8,
      "outputs": []
    },
    {
      "cell_type": "markdown",
      "source": [
        "### Preprocess the data, encode label and save output file ( Output_Dataset_1.csv)"
      ],
      "metadata": {
        "id": "RwEFomJXrK85"
      }
    },
    {
      "cell_type": "code",
      "source": [
        "# Load dataset\n",
        "data = pd.read_excel('/content/Given_Excel_Data.xls')  # actual given excel file\n",
        "df = pd.DataFrame(data)\n",
        "\n",
        "# clean dataset\n",
        "df['Cleaned_Feedback'], df['Is_No_Match'] = zip(*df['Feedback'].apply(clean_text))\n",
        "\n",
        "# remove duplicates\n",
        "df = df.drop_duplicates(subset=['Cleaned_Feedback', 'Score'])\n",
        "\n",
        "# assign labels using .loc to avoid SettingWithCopyWarning\n",
        "df.loc[:, 'Label'] = df.apply(assign_label, axis=1)\n",
        "\n",
        "# drop temporary column\n",
        "df = df.drop(columns=['Is_No_Match'])\n",
        "\n",
        "\n",
        "# Validate evaluation criteria\n",
        "# check for Positive-to-Negative misclassification\n",
        "positive_rows = df[df['Label'] == 'Positive']\n",
        "if any(positive_rows['Score'] == 3.0):\n",
        "    raise ValueError(\"Positive samples misclassified as Negative detected!\")\n",
        "\n",
        "# check  for Negative-to-Positive misclassification\n",
        "negative_rows = df[df['Score'] == 3.0]\n",
        "negative_to_positive = negative_rows[negative_rows['Label'] == 'Positive'].shape[0]\n",
        "if negative_to_positive > 8:\n",
        "    raise ValueError(f\"More than 8 Negative samples misclassified as Positive: {negative_to_positive}\")\n",
        "\n",
        "# Calculate class distribution to take reference\n",
        "class_counts = df['Label'].value_counts()\n",
        "print(\"Show 4-Labels Class Distribution:\")\n",
        "print(class_counts)\n",
        "\n",
        "# save cleaned dataset\n",
        "df[['Cleaned_Feedback', 'Score', 'Label']].to_csv('Output_Dataset_1.csv', index=False)"
      ],
      "metadata": {
        "colab": {
          "base_uri": "https://localhost:8080/"
        },
        "id": "oLhIIPsHn_CC",
        "outputId": "4822440c-5f10-4f10-fc9d-99a8194b1eb0"
      },
      "execution_count": 9,
      "outputs": [
        {
          "output_type": "stream",
          "name": "stdout",
          "text": [
            "Show 4-Labels Class Distribution:\n",
            "Label\n",
            "Negative    275\n",
            "Positive    272\n",
            "Neutral     109\n",
            "No Match     88\n",
            "Name: count, dtype: int64\n"
          ]
        },
        {
          "output_type": "stream",
          "name": "stderr",
          "text": [
            "/tmp/ipython-input-9-3918178114.py:12: SettingWithCopyWarning: \n",
            "A value is trying to be set on a copy of a slice from a DataFrame.\n",
            "Try using .loc[row_indexer,col_indexer] = value instead\n",
            "\n",
            "See the caveats in the documentation: https://pandas.pydata.org/pandas-docs/stable/user_guide/indexing.html#returning-a-view-versus-a-copy\n",
            "  df.loc[:, 'Label'] = df.apply(assign_label, axis=1)\n"
          ]
        }
      ]
    },
    {
      "cell_type": "markdown",
      "source": [
        "### Cleaned Dataset Loading and Final Cleaning"
      ],
      "metadata": {
        "id": "tT4JePxKrZyC"
      }
    },
    {
      "cell_type": "code",
      "source": [
        "# load cleaned(Output_Dataset_1.csv) dataset\n",
        "df = pd.read_csv('/content/Output_Dataset_1.csv')\n",
        "\n",
        "# handle NaN, None, or non-string entries\n",
        "df['Cleaned_Feedback'] = df['Cleaned_Feedback'].fillna('[EMPTY]')  # replace NaN with placeholder\n",
        "df['Cleaned_Feedback'] = df['Cleaned_Feedback'].astype(str)  # check that all entries are strings\n",
        "df['Cleaned_Feedback'] = df['Cleaned_Feedback'].replace('', '[EMPTY]')  # replace empty strings\n",
        "\n",
        "# log any problematic entries for debugging\n",
        "invalid_entries = df[~df['Cleaned_Feedback'].apply(lambda x: isinstance(x, str) or x is None)]\n",
        "if not invalid_entries.empty:\n",
        "    print(\"Warning: Found invalid entries in Cleaned_Feedback:\")\n",
        "    print(invalid_entries[['Cleaned_Feedback', 'Score', 'Label']])"
      ],
      "metadata": {
        "id": "zq9P3xtNpiAO"
      },
      "execution_count": 10,
      "outputs": []
    },
    {
      "cell_type": "markdown",
      "source": [
        "### Score-Label Consistency Validation and Correction"
      ],
      "metadata": {
        "id": "KMPrcNiTr5js"
      }
    },
    {
      "cell_type": "code",
      "source": [
        "# now validate score-label consistency\n",
        "score_to_label = {1: 'Positive', 2: 'Neutral', 3: 'Negative', 4: 'No Match'}\n",
        "df['Expected_Label'] = df['Score'].map(score_to_label)\n",
        "inconsistencies = df[df['Label'] != df['Expected_Label']]\n",
        "if not inconsistencies.empty:\n",
        "    print(\"Warning: Found inconsistent Score-Label pairs:\")\n",
        "    print(inconsistencies[['Cleaned_Feedback', 'Score', 'Label', 'Expected_Label']])\n",
        "    # then correct the labels based on score\n",
        "    df['Label'] = df['Score'].map(score_to_label)\n",
        "df = df.drop(columns=['Expected_Label'])"
      ],
      "metadata": {
        "colab": {
          "base_uri": "https://localhost:8080/"
        },
        "id": "4x8uR2hGp5Tm",
        "outputId": "56dd62bf-809f-403b-a8b6-009580fc6a1a"
      },
      "execution_count": 11,
      "outputs": [
        {
          "output_type": "stream",
          "name": "stdout",
          "text": [
            "Warning: Found inconsistent Score-Label pairs:\n",
            "                                      Cleaned_Feedback  Score     Label  \\\n",
            "0                                              [EMPTY]      2  No Match   \n",
            "1                                      nothing as such      2  No Match   \n",
            "3    its given me the wings not only to flap but to...      1  No Match   \n",
            "8    because i was asked to work without getting a ...      3  No Match   \n",
            "19                                   nothing as of now      2  No Match   \n",
            "..                                                 ...    ...       ...   \n",
            "708  nothing else kindly keep all of this confidential      2  No Match   \n",
            "718                           good ambience of working      2  Positive   \n",
            "719                                        nothing yet      2  No Match   \n",
            "732                               good work keep it up      2  Positive   \n",
            "742                              good companygood team      2  Positive   \n",
            "\n",
            "    Expected_Label  \n",
            "0          Neutral  \n",
            "1          Neutral  \n",
            "3         Positive  \n",
            "8         Negative  \n",
            "19         Neutral  \n",
            "..             ...  \n",
            "708        Neutral  \n",
            "718        Neutral  \n",
            "719        Neutral  \n",
            "732        Neutral  \n",
            "742        Neutral  \n",
            "\n",
            "[89 rows x 4 columns]\n"
          ]
        }
      ]
    },
    {
      "cell_type": "markdown",
      "source": [
        "### Install transformers library from hugging face quietly (q)"
      ],
      "metadata": {
        "id": "4YnWETkJ0tHE"
      }
    },
    {
      "cell_type": "code",
      "source": [
        "!pip install -q transformers"
      ],
      "metadata": {
        "id": "h-DSw7j5ukhq"
      },
      "execution_count": 12,
      "outputs": []
    },
    {
      "cell_type": "markdown",
      "source": [
        "### Encode label and save output file (Output_Dataset_2.csv)"
      ],
      "metadata": {
        "id": "Z-VxD3fLwwaR"
      }
    },
    {
      "cell_type": "code",
      "source": [
        "# now we encode labels and rename to 'labels'\n",
        "label_map = {'Positive': 0, 'Negative': 1, 'Neutral': 2, 'No Match': 3}\n",
        "df['labels'] = df['Label'].map(label_map)\n",
        "\n",
        "# check for invalid labels\n",
        "if df['labels'].isna().any():\n",
        "    print(\"Warning: Found NaN in labels. Dropping invalid rows.\")\n",
        "    df = df.dropna(subset=['labels'])\n",
        "    df['labels'] = df['labels'].astype(int)\n",
        "\n",
        "# save the cleaned dataset\n",
        "df[['Cleaned_Feedback', 'Score', 'Label']].to_csv('Output_Dataset_2.csv', index=False)"
      ],
      "metadata": {
        "id": "Mj6wXnSOqVIL"
      },
      "execution_count": 13,
      "outputs": []
    },
    {
      "cell_type": "markdown",
      "source": [
        "### Predict sentiment using a pre-trained RoBERTa model"
      ],
      "metadata": {
        "id": "3kE-UvAGxDeQ"
      }
    },
    {
      "cell_type": "code",
      "source": [
        "# load  the model and tokenizer\n",
        "from transformers import AutoTokenizer, AutoModelForSequenceClassification\n",
        "import torch\n",
        "import pandas as pd\n",
        "from torch.nn.functional import softmax\n",
        "\n",
        "model_name = \"cardiffnlp/twitter-roberta-base-sentiment\"\n",
        "tokenizer = AutoTokenizer.from_pretrained(model_name)\n",
        "model = AutoModelForSequenceClassification.from_pretrained(model_name)\n",
        "\n",
        "# define the prediction function\n",
        "labels = ['Negative', 'Neutral', 'Positive','No Match']\n",
        "\n",
        "def predict_sentiment(text):\n",
        "    tokens = tokenizer(text, return_tensors=\"pt\", truncation=True)\n",
        "    with torch.no_grad():\n",
        "        output = model(**tokens)\n",
        "        scores = softmax(output.logits, dim=1)\n",
        "        predicted_class = torch.argmax(scores).item()\n",
        "        return labels[predicted_class]"
      ],
      "metadata": {
        "colab": {
          "base_uri": "https://localhost:8080/",
          "height": 177,
          "referenced_widgets": [
            "3fef957bf72144df95ebcf6a8ad51abf",
            "e55f62acc8d649d381035d51f0b327b5",
            "82f8fae05bc4464f8db6db0fdc5071be",
            "7eab22ec888748c98b4614edb03d1ca9",
            "6dd157cfa21140e687f94ad132107152",
            "b41b201769a141a7a50b1fbd5bf30de7",
            "f798135dafa34494a41a0a57ecbcfdf9",
            "5be117fb7d82437ab969bc926e215e78",
            "80e84db798ae43d3be8885a8aa675e49",
            "9d7e6d3c6be24f009a44e1462c0412cd",
            "eeebb8332aaf407e987a7210babce14b",
            "7db5a880c0ca42d2b393a5d57a81d8e6",
            "24d360adabe345c2886cf565c77f3304",
            "3324cfbb485d4d8e838c34332e17b5b2",
            "2005b34eb628421e8774d1493b1f26fa",
            "10f0adb4287f442c9c6229a6e7c7d639",
            "f0c32c316f3f4b1481604626f44c6ade",
            "5c81f184a3c94f6eb5804cb23f407720",
            "d6a68e1908e54e739cd7d740dbd0a32b",
            "d7a09493d38b42998ba7a5eb64cf1fae",
            "93bae033e39f42249ab64395964fcd23",
            "7e7b450739614b8bbf5b312bf5e52d87",
            "8f4e594f5c70413b9945d2a09f496c06",
            "c3bf7928f2d24e28b75f630d12f31e89",
            "032d3e403ea74866a45cd12667c7a63d",
            "a94fc856427b4733b55dd8a69fe7b2b4",
            "506fefb9e9764605b576920488cfd3dd",
            "c1e6cf7b25c444d9988d15ff2d5a197a",
            "bb70d835fa2e46efb039c5b8fa9c2a1c",
            "fcc73005bf044b8c959763b08d1ad47d",
            "371ba53301ea40759fa7bbed33ea73d4",
            "7996d669c91b4d2daf0b19fe295461a3",
            "c7c902a95cfd405e83859990d68eee1a",
            "4382f642c93940409b3e070d9ed0eac7",
            "c9a37bec4e9a4e3aa868e2f40f6537a8",
            "88f993d3c8ed4a5798ff72d95fa8ac23",
            "be9ba50389794940ad5edbce6f943313",
            "15e518791fdb4161bdf6bbe0f70eca91",
            "b37ee6bddbe84e9491746741294545cd",
            "cbbe71b7f3914c74ad2ff338b5f7bed2",
            "42117fd0a3df41ecb06d53e631b21337",
            "dff3ae6e198040c8a49fec4079c9ba79",
            "b227fce4168f480284fc872692e16873",
            "a63df522c7fb416c912cc1c60f910d48",
            "99c5c04c5afc460eb6c0dfa37514ffa8",
            "50676591bb5f4be9b36dda4ed2d1f6a2",
            "a02ab99eb93e48549a3f930649d05653",
            "d7697acf2f384448a52687e77f8409d1",
            "66044dab2c814617a844d04e349b5ce6",
            "03bf51eb2aed4aa9be3c0557f0cca3a5",
            "fc143626fa7b403cb365597ba718667c",
            "dafafdffb32c400198d6d518b581d51f",
            "389a43d1ef5d4d668bdf796c010d11f8",
            "0111120f34aa4738899c9c1cfe74eab1",
            "2b94c39e0c4f4dbbaac00c528a7c8156"
          ]
        },
        "id": "rLj-x4j-sLtb",
        "outputId": "5a087492-38f1-4513-9f68-669eb1a0bb72"
      },
      "execution_count": 14,
      "outputs": [
        {
          "output_type": "display_data",
          "data": {
            "text/plain": [
              "config.json:   0%|          | 0.00/747 [00:00<?, ?B/s]"
            ],
            "application/vnd.jupyter.widget-view+json": {
              "version_major": 2,
              "version_minor": 0,
              "model_id": "3fef957bf72144df95ebcf6a8ad51abf"
            }
          },
          "metadata": {}
        },
        {
          "output_type": "display_data",
          "data": {
            "text/plain": [
              "vocab.json: 0.00B [00:00, ?B/s]"
            ],
            "application/vnd.jupyter.widget-view+json": {
              "version_major": 2,
              "version_minor": 0,
              "model_id": "7db5a880c0ca42d2b393a5d57a81d8e6"
            }
          },
          "metadata": {}
        },
        {
          "output_type": "display_data",
          "data": {
            "text/plain": [
              "merges.txt: 0.00B [00:00, ?B/s]"
            ],
            "application/vnd.jupyter.widget-view+json": {
              "version_major": 2,
              "version_minor": 0,
              "model_id": "8f4e594f5c70413b9945d2a09f496c06"
            }
          },
          "metadata": {}
        },
        {
          "output_type": "display_data",
          "data": {
            "text/plain": [
              "special_tokens_map.json:   0%|          | 0.00/150 [00:00<?, ?B/s]"
            ],
            "application/vnd.jupyter.widget-view+json": {
              "version_major": 2,
              "version_minor": 0,
              "model_id": "4382f642c93940409b3e070d9ed0eac7"
            }
          },
          "metadata": {}
        },
        {
          "output_type": "display_data",
          "data": {
            "text/plain": [
              "pytorch_model.bin:   0%|          | 0.00/499M [00:00<?, ?B/s]"
            ],
            "application/vnd.jupyter.widget-view+json": {
              "version_major": 2,
              "version_minor": 0,
              "model_id": "99c5c04c5afc460eb6c0dfa37514ffa8"
            }
          },
          "metadata": {}
        }
      ]
    },
    {
      "cell_type": "markdown",
      "source": [
        "### Create sentiment prediction function"
      ],
      "metadata": {
        "id": "8_e9fwzVxnSM"
      }
    },
    {
      "cell_type": "code",
      "source": [
        "# define the prediction function\n",
        "labels = ['Negative', 'Neutral', 'Positive','No Match']\n",
        "\n",
        "def predict_sentiment(text):\n",
        "    tokens = tokenizer(text, return_tensors=\"pt\", truncation=True)\n",
        "    with torch.no_grad():\n",
        "        output = model(**tokens)\n",
        "        scores = softmax(output.logits, dim=1)\n",
        "        predicted_class = torch.argmax(scores).item()\n",
        "        return labels[predicted_class]"
      ],
      "metadata": {
        "id": "fMxZbCO5sijY"
      },
      "execution_count": 15,
      "outputs": []
    },
    {
      "cell_type": "markdown",
      "source": [
        "### Predict sentiment  and save output file (Output_Dataset_3.csv)"
      ],
      "metadata": {
        "id": "QnZWC49Jx3YJ"
      }
    },
    {
      "cell_type": "code",
      "source": [
        "# load Output_Dataset_2.csv\n",
        "df = pd.read_csv(\"/content/Output_Dataset_2.csv\")\n",
        "df = df.dropna(subset=[\"Label\"])\n",
        "\n",
        "# predict sentiment\n",
        "df[\"Predicted_Sentiment\"] = df[\"Label\"].apply(predict_sentiment)\n",
        "\n",
        "# save output\n",
        "output_path = \"/content/Output_Dataset_3.csv\"\n",
        "df.to_csv(output_path, index=False)\n",
        "print(f\"Predictions saved to: {output_path}\")"
      ],
      "metadata": {
        "colab": {
          "base_uri": "https://localhost:8080/",
          "height": 104,
          "referenced_widgets": [
            "93b33d7c33184f849d5177e46f9df399",
            "45d2998379204a1e9e51b66a2e222665",
            "acc2d9e348614ea2b35c39fac7207037",
            "d1f60b79db304533a418f5d739305068",
            "0681bae7afbc4aaf9c7b73177f4da8a9",
            "4cb46d87e52440bc8092277a4b3e065f",
            "18c593d72a9542e5abb18a3c4da33092",
            "b8d5b79f086a4f84aeb9dcbf22a5229c",
            "07e02986a487443da5b743ccf940dbb3",
            "675ec47cfc1c42aa803485ea9855e674",
            "8481e4fc9c784d4aad6b6a5386bf0af0"
          ]
        },
        "id": "yKAMSomys4_d",
        "outputId": "20083d23-1897-4799-8886-1457cd839b2e"
      },
      "execution_count": 16,
      "outputs": [
        {
          "output_type": "stream",
          "name": "stderr",
          "text": [
            "Asking to truncate to max_length but no maximum length is provided and the model has no predefined maximum length. Default to no truncation.\n"
          ]
        },
        {
          "output_type": "display_data",
          "data": {
            "text/plain": [
              "model.safetensors:   0%|          | 0.00/499M [00:00<?, ?B/s]"
            ],
            "application/vnd.jupyter.widget-view+json": {
              "version_major": 2,
              "version_minor": 0,
              "model_id": "93b33d7c33184f849d5177e46f9df399"
            }
          },
          "metadata": {}
        },
        {
          "output_type": "stream",
          "name": "stdout",
          "text": [
            "Predictions saved to: /content/Output_Dataset_3.csv\n"
          ]
        }
      ]
    },
    {
      "cell_type": "markdown",
      "source": [
        "### Prepare prediction result classification"
      ],
      "metadata": {
        "id": "WDOjWK3sy-d0"
      }
    },
    {
      "cell_type": "code",
      "source": [
        "import pandas as pd\n",
        "import plotly.figure_factory as ff\n",
        "from sklearn.metrics import classification_report, confusion_matrix, accuracy_score\n",
        "\n",
        "# load Output_Dataset_3.csv\n",
        "df = pd.read_csv(\"/content/Output_Dataset_3.csv\")\n",
        "\n",
        "# clean the labels\n",
        "df[\"Label\"] = df[\"Label\"].str.strip().str.capitalize()\n",
        "df[\"Predicted_Sentiment\"] = df[\"Predicted_Sentiment\"].str.strip().str.capitalize()\n",
        "\n",
        "labels = [\"Positive\", \"Neutral\", \"Negative\", \"No Match\"]"
      ],
      "metadata": {
        "id": "Y8DzstndvPuh"
      },
      "execution_count": 17,
      "outputs": []
    },
    {
      "cell_type": "markdown",
      "source": [
        "### Draw Confusion Matrix"
      ],
      "metadata": {
        "id": "HDT_ATOBzH_n"
      }
    },
    {
      "cell_type": "code",
      "source": [
        "# confusion matrix\n",
        "cm = confusion_matrix(df[\"Label\"], df[\"Predicted_Sentiment\"], labels=labels)\n",
        "report = classification_report(df[\"Label\"], df[\"Predicted_Sentiment\"], labels=labels, output_dict=True,zero_division=0)"
      ],
      "metadata": {
        "id": "Qj676UG8va9r"
      },
      "execution_count": 18,
      "outputs": []
    },
    {
      "cell_type": "markdown",
      "source": [
        "### Showing Class-Wise Accuracy Result"
      ],
      "metadata": {
        "id": "BS-tBZ-BzQCS"
      }
    },
    {
      "cell_type": "code",
      "source": [
        "# print class-wise accuracy\n",
        "print(\"-------------------------PER CLASS BREAKDOWN---------------------------\\n\")\n",
        "for label in labels:\n",
        "    recall = report[label][\"recall\"]\n",
        "    print(f\"{label:10s}: {recall:.3f}\")\n",
        "\n",
        "# misclassification checks\n",
        "pos_as_neg = cm[labels.index(\"Positive\")][labels.index(\"Negative\")]\n",
        "neg_as_pos = cm[labels.index(\"Negative\")][labels.index(\"Positive\")]\n",
        "\n",
        "print(\"Positive → Negative Misclassifications:\", pos_as_neg)\n",
        "print(\"Negative → Positive Misclassifications:\", neg_as_pos)"
      ],
      "metadata": {
        "colab": {
          "base_uri": "https://localhost:8080/"
        },
        "id": "jfMfl5TxvgOo",
        "outputId": "9b4aa4b0-e122-4638-d0e6-b28eaad446c2"
      },
      "execution_count": 19,
      "outputs": [
        {
          "output_type": "stream",
          "name": "stdout",
          "text": [
            "-------------------------PER CLASS BREAKDOWN---------------------------\n",
            "\n",
            "Positive  : 1.000\n",
            "Neutral   : 1.000\n",
            "Negative  : 1.000\n",
            "No Match  : 0.000\n",
            "Positive → Negative Misclassifications: 0\n",
            "Negative → Positive Misclassifications: 0\n"
          ]
        }
      ]
    },
    {
      "cell_type": "markdown",
      "source": [
        "### Draw evaluation criteria and compare with threshold criteria (given in assignment)"
      ],
      "metadata": {
        "id": "JZwgxKqgzZNA"
      }
    },
    {
      "cell_type": "code",
      "source": [
        "# let's check evaluation criteria\n",
        "criteria = {\n",
        "    \"Positive ≥ 0.96\": report[\"Positive\"][\"recall\"] >= 0.96,\n",
        "    \"Neutral ≥ 0.56\": report[\"Neutral\"][\"recall\"] >= 0.56,\n",
        "    \"Negative ≥ 0.646\": report[\"Negative\"][\"recall\"] >= 0.646,\n",
        "    \"No Match = 1.0\": report[\"No Match\"][\"recall\"] == 1.0,\n",
        "    \"Positive→Negative = 0\": pos_as_neg == 0,\n",
        "    \"Negative→Positive ≤ 8\": neg_as_pos <= 8\n",
        "}\n",
        "\n",
        "print(\"\\n-------------------------EVALUATION CRITERIA CHECK---------------------\\n\")\n",
        "for k, passed in criteria.items():\n",
        "    status = \" Passed\" if passed else  \"Failed\"\n",
        "    print(f\"{k:<30} {status}\")"
      ],
      "metadata": {
        "colab": {
          "base_uri": "https://localhost:8080/"
        },
        "id": "0imyznWwvsiB",
        "outputId": "e343d24c-b9d9-4285-e877-3608e65571f0"
      },
      "execution_count": 20,
      "outputs": [
        {
          "output_type": "stream",
          "name": "stdout",
          "text": [
            "\n",
            "-------------------------EVALUATION CRITERIA CHECK---------------------\n",
            "\n",
            "Positive ≥ 0.96                 Passed\n",
            "Neutral ≥ 0.56                  Passed\n",
            "Negative ≥ 0.646                Passed\n",
            "No Match = 1.0                 Failed\n",
            "Positive→Negative = 0           Passed\n",
            "Negative→Positive ≤ 8           Passed\n"
          ]
        }
      ]
    },
    {
      "cell_type": "markdown",
      "source": [
        "### Calculating the overall accuracy of model"
      ],
      "metadata": {
        "id": "ayHGLPIEzzF1"
      }
    },
    {
      "cell_type": "code",
      "source": [
        "# calculate overall accuracy\n",
        "accuracy = accuracy_score(df[\"Label\"], df[\"Predicted_Sentiment\"])\n",
        "print(f\"OVERALL MODEL ACCURACY: {accuracy * 100:.2f}%\")"
      ],
      "metadata": {
        "colab": {
          "base_uri": "https://localhost:8080/"
        },
        "id": "YFcKv9T_v3Dn",
        "outputId": "2201de12-85a9-4629-baf6-2b0a6d7f0500"
      },
      "execution_count": 21,
      "outputs": [
        {
          "output_type": "stream",
          "name": "stdout",
          "text": [
            "OVERALL MODEL ACCURACY: 97.98%\n"
          ]
        }
      ]
    },
    {
      "cell_type": "markdown",
      "source": [
        "### Draw confusion matrix by using Heatmap"
      ],
      "metadata": {
        "id": "ZU766Tuj0AXL"
      }
    },
    {
      "cell_type": "code",
      "source": [
        "print(\"\\n-------------------------CONFUSION MATRIX HEATMAP----------------------\\n\")\n",
        "print(cm)\n",
        "print(\"\\n\")\n",
        "# define the labels\n",
        "true_labels = df[\"Label\"]\n",
        "pred_labels = df[\"Predicted_Sentiment\"]\n",
        "\n",
        "label_order = ['Negative', 'Neutral', 'Positive', 'No Match']\n",
        "cm = confusion_matrix(true_labels, pred_labels, labels=label_order)\n",
        "\n",
        "# let's create interactive heatmap\n",
        "fig = ff.create_annotated_heatmap(\n",
        "    z=cm,\n",
        "    x=label_order,\n",
        "    y=label_order,\n",
        "    annotation_text=cm.astype(str),\n",
        "    colorscale='Purples',\n",
        "    showscale=True\n",
        ")\n",
        "\n",
        "fig.update_layout(\n",
        "    title=\"Multi-Class Sentiment Detection \",\n",
        "    xaxis_title=\"Predicted Label\",\n",
        "    yaxis_title=\"Label\"\n",
        ")\n",
        "\n",
        "fig.show()"
      ],
      "metadata": {
        "colab": {
          "base_uri": "https://localhost:8080/",
          "height": 698
        },
        "id": "OHPsfV7Yv7_Z",
        "outputId": "b4f5b96e-f207-4685-dd1e-cb603fec07b7"
      },
      "execution_count": 22,
      "outputs": [
        {
          "output_type": "stream",
          "name": "stdout",
          "text": [
            "\n",
            "-------------------------CONFUSION MATRIX HEATMAP----------------------\n",
            "\n",
            "[[290   0   0   0]\n",
            " [  0 157   0   0]\n",
            " [  0   0 282   0]\n",
            " [  0   0   0   0]]\n",
            "\n",
            "\n"
          ]
        },
        {
          "output_type": "display_data",
          "data": {
            "text/html": [
              "<html>\n",
              "<head><meta charset=\"utf-8\" /></head>\n",
              "<body>\n",
              "    <div>            <script src=\"https://cdnjs.cloudflare.com/ajax/libs/mathjax/2.7.5/MathJax.js?config=TeX-AMS-MML_SVG\"></script><script type=\"text/javascript\">if (window.MathJax && window.MathJax.Hub && window.MathJax.Hub.Config) {window.MathJax.Hub.Config({SVG: {font: \"STIX-Web\"}});}</script>                <script type=\"text/javascript\">window.PlotlyConfig = {MathJaxConfig: 'local'};</script>\n",
              "        <script charset=\"utf-8\" src=\"https://cdn.plot.ly/plotly-2.35.2.min.js\"></script>                <div id=\"a9421006-16a0-45f4-b2ce-7dd165fd1d57\" class=\"plotly-graph-div\" style=\"height:525px; width:100%;\"></div>            <script type=\"text/javascript\">                                    window.PLOTLYENV=window.PLOTLYENV || {};                                    if (document.getElementById(\"a9421006-16a0-45f4-b2ce-7dd165fd1d57\")) {                    Plotly.newPlot(                        \"a9421006-16a0-45f4-b2ce-7dd165fd1d57\",                        [{\"colorscale\":[[0.0,\"rgb(252,251,253)\"],[0.125,\"rgb(239,237,245)\"],[0.25,\"rgb(218,218,235)\"],[0.375,\"rgb(188,189,220)\"],[0.5,\"rgb(158,154,200)\"],[0.625,\"rgb(128,125,186)\"],[0.75,\"rgb(106,81,163)\"],[0.875,\"rgb(84,39,143)\"],[1.0,\"rgb(63,0,125)\"]],\"reversescale\":false,\"showscale\":true,\"x\":[\"Negative\",\"Neutral\",\"Positive\",\"No Match\"],\"y\":[\"Negative\",\"Neutral\",\"Positive\",\"No Match\"],\"z\":[[282,0,0,0],[0,157,0,0],[0,0,290,0],[0,0,0,0]],\"type\":\"heatmap\"}],                        {\"annotations\":[{\"font\":{\"color\":\"#FFFFFF\"},\"showarrow\":false,\"text\":\"282\",\"x\":\"Negative\",\"xref\":\"x\",\"y\":\"Negative\",\"yref\":\"y\"},{\"font\":{\"color\":\"#000000\"},\"showarrow\":false,\"text\":\"0\",\"x\":\"Neutral\",\"xref\":\"x\",\"y\":\"Negative\",\"yref\":\"y\"},{\"font\":{\"color\":\"#000000\"},\"showarrow\":false,\"text\":\"0\",\"x\":\"Positive\",\"xref\":\"x\",\"y\":\"Negative\",\"yref\":\"y\"},{\"font\":{\"color\":\"#000000\"},\"showarrow\":false,\"text\":\"0\",\"x\":\"No Match\",\"xref\":\"x\",\"y\":\"Negative\",\"yref\":\"y\"},{\"font\":{\"color\":\"#000000\"},\"showarrow\":false,\"text\":\"0\",\"x\":\"Negative\",\"xref\":\"x\",\"y\":\"Neutral\",\"yref\":\"y\"},{\"font\":{\"color\":\"#FFFFFF\"},\"showarrow\":false,\"text\":\"157\",\"x\":\"Neutral\",\"xref\":\"x\",\"y\":\"Neutral\",\"yref\":\"y\"},{\"font\":{\"color\":\"#000000\"},\"showarrow\":false,\"text\":\"0\",\"x\":\"Positive\",\"xref\":\"x\",\"y\":\"Neutral\",\"yref\":\"y\"},{\"font\":{\"color\":\"#000000\"},\"showarrow\":false,\"text\":\"0\",\"x\":\"No Match\",\"xref\":\"x\",\"y\":\"Neutral\",\"yref\":\"y\"},{\"font\":{\"color\":\"#000000\"},\"showarrow\":false,\"text\":\"0\",\"x\":\"Negative\",\"xref\":\"x\",\"y\":\"Positive\",\"yref\":\"y\"},{\"font\":{\"color\":\"#000000\"},\"showarrow\":false,\"text\":\"0\",\"x\":\"Neutral\",\"xref\":\"x\",\"y\":\"Positive\",\"yref\":\"y\"},{\"font\":{\"color\":\"#FFFFFF\"},\"showarrow\":false,\"text\":\"290\",\"x\":\"Positive\",\"xref\":\"x\",\"y\":\"Positive\",\"yref\":\"y\"},{\"font\":{\"color\":\"#000000\"},\"showarrow\":false,\"text\":\"0\",\"x\":\"No Match\",\"xref\":\"x\",\"y\":\"Positive\",\"yref\":\"y\"},{\"font\":{\"color\":\"#000000\"},\"showarrow\":false,\"text\":\"0\",\"x\":\"Negative\",\"xref\":\"x\",\"y\":\"No Match\",\"yref\":\"y\"},{\"font\":{\"color\":\"#000000\"},\"showarrow\":false,\"text\":\"0\",\"x\":\"Neutral\",\"xref\":\"x\",\"y\":\"No Match\",\"yref\":\"y\"},{\"font\":{\"color\":\"#000000\"},\"showarrow\":false,\"text\":\"0\",\"x\":\"Positive\",\"xref\":\"x\",\"y\":\"No Match\",\"yref\":\"y\"},{\"font\":{\"color\":\"#000000\"},\"showarrow\":false,\"text\":\"0\",\"x\":\"No Match\",\"xref\":\"x\",\"y\":\"No Match\",\"yref\":\"y\"}],\"xaxis\":{\"dtick\":1,\"gridcolor\":\"rgb(0, 0, 0)\",\"side\":\"top\",\"ticks\":\"\",\"title\":{\"text\":\"Predicted Label\"}},\"yaxis\":{\"dtick\":1,\"ticks\":\"\",\"ticksuffix\":\"  \",\"title\":{\"text\":\"Label\"}},\"template\":{\"data\":{\"histogram2dcontour\":[{\"type\":\"histogram2dcontour\",\"colorbar\":{\"outlinewidth\":0,\"ticks\":\"\"},\"colorscale\":[[0.0,\"#0d0887\"],[0.1111111111111111,\"#46039f\"],[0.2222222222222222,\"#7201a8\"],[0.3333333333333333,\"#9c179e\"],[0.4444444444444444,\"#bd3786\"],[0.5555555555555556,\"#d8576b\"],[0.6666666666666666,\"#ed7953\"],[0.7777777777777778,\"#fb9f3a\"],[0.8888888888888888,\"#fdca26\"],[1.0,\"#f0f921\"]]}],\"choropleth\":[{\"type\":\"choropleth\",\"colorbar\":{\"outlinewidth\":0,\"ticks\":\"\"}}],\"histogram2d\":[{\"type\":\"histogram2d\",\"colorbar\":{\"outlinewidth\":0,\"ticks\":\"\"},\"colorscale\":[[0.0,\"#0d0887\"],[0.1111111111111111,\"#46039f\"],[0.2222222222222222,\"#7201a8\"],[0.3333333333333333,\"#9c179e\"],[0.4444444444444444,\"#bd3786\"],[0.5555555555555556,\"#d8576b\"],[0.6666666666666666,\"#ed7953\"],[0.7777777777777778,\"#fb9f3a\"],[0.8888888888888888,\"#fdca26\"],[1.0,\"#f0f921\"]]}],\"heatmap\":[{\"type\":\"heatmap\",\"colorbar\":{\"outlinewidth\":0,\"ticks\":\"\"},\"colorscale\":[[0.0,\"#0d0887\"],[0.1111111111111111,\"#46039f\"],[0.2222222222222222,\"#7201a8\"],[0.3333333333333333,\"#9c179e\"],[0.4444444444444444,\"#bd3786\"],[0.5555555555555556,\"#d8576b\"],[0.6666666666666666,\"#ed7953\"],[0.7777777777777778,\"#fb9f3a\"],[0.8888888888888888,\"#fdca26\"],[1.0,\"#f0f921\"]]}],\"heatmapgl\":[{\"type\":\"heatmapgl\",\"colorbar\":{\"outlinewidth\":0,\"ticks\":\"\"},\"colorscale\":[[0.0,\"#0d0887\"],[0.1111111111111111,\"#46039f\"],[0.2222222222222222,\"#7201a8\"],[0.3333333333333333,\"#9c179e\"],[0.4444444444444444,\"#bd3786\"],[0.5555555555555556,\"#d8576b\"],[0.6666666666666666,\"#ed7953\"],[0.7777777777777778,\"#fb9f3a\"],[0.8888888888888888,\"#fdca26\"],[1.0,\"#f0f921\"]]}],\"contourcarpet\":[{\"type\":\"contourcarpet\",\"colorbar\":{\"outlinewidth\":0,\"ticks\":\"\"}}],\"contour\":[{\"type\":\"contour\",\"colorbar\":{\"outlinewidth\":0,\"ticks\":\"\"},\"colorscale\":[[0.0,\"#0d0887\"],[0.1111111111111111,\"#46039f\"],[0.2222222222222222,\"#7201a8\"],[0.3333333333333333,\"#9c179e\"],[0.4444444444444444,\"#bd3786\"],[0.5555555555555556,\"#d8576b\"],[0.6666666666666666,\"#ed7953\"],[0.7777777777777778,\"#fb9f3a\"],[0.8888888888888888,\"#fdca26\"],[1.0,\"#f0f921\"]]}],\"surface\":[{\"type\":\"surface\",\"colorbar\":{\"outlinewidth\":0,\"ticks\":\"\"},\"colorscale\":[[0.0,\"#0d0887\"],[0.1111111111111111,\"#46039f\"],[0.2222222222222222,\"#7201a8\"],[0.3333333333333333,\"#9c179e\"],[0.4444444444444444,\"#bd3786\"],[0.5555555555555556,\"#d8576b\"],[0.6666666666666666,\"#ed7953\"],[0.7777777777777778,\"#fb9f3a\"],[0.8888888888888888,\"#fdca26\"],[1.0,\"#f0f921\"]]}],\"mesh3d\":[{\"type\":\"mesh3d\",\"colorbar\":{\"outlinewidth\":0,\"ticks\":\"\"}}],\"scatter\":[{\"fillpattern\":{\"fillmode\":\"overlay\",\"size\":10,\"solidity\":0.2},\"type\":\"scatter\"}],\"parcoords\":[{\"type\":\"parcoords\",\"line\":{\"colorbar\":{\"outlinewidth\":0,\"ticks\":\"\"}}}],\"scatterpolargl\":[{\"type\":\"scatterpolargl\",\"marker\":{\"colorbar\":{\"outlinewidth\":0,\"ticks\":\"\"}}}],\"bar\":[{\"error_x\":{\"color\":\"#2a3f5f\"},\"error_y\":{\"color\":\"#2a3f5f\"},\"marker\":{\"line\":{\"color\":\"#E5ECF6\",\"width\":0.5},\"pattern\":{\"fillmode\":\"overlay\",\"size\":10,\"solidity\":0.2}},\"type\":\"bar\"}],\"scattergeo\":[{\"type\":\"scattergeo\",\"marker\":{\"colorbar\":{\"outlinewidth\":0,\"ticks\":\"\"}}}],\"scatterpolar\":[{\"type\":\"scatterpolar\",\"marker\":{\"colorbar\":{\"outlinewidth\":0,\"ticks\":\"\"}}}],\"histogram\":[{\"marker\":{\"pattern\":{\"fillmode\":\"overlay\",\"size\":10,\"solidity\":0.2}},\"type\":\"histogram\"}],\"scattergl\":[{\"type\":\"scattergl\",\"marker\":{\"colorbar\":{\"outlinewidth\":0,\"ticks\":\"\"}}}],\"scatter3d\":[{\"type\":\"scatter3d\",\"line\":{\"colorbar\":{\"outlinewidth\":0,\"ticks\":\"\"}},\"marker\":{\"colorbar\":{\"outlinewidth\":0,\"ticks\":\"\"}}}],\"scattermapbox\":[{\"type\":\"scattermapbox\",\"marker\":{\"colorbar\":{\"outlinewidth\":0,\"ticks\":\"\"}}}],\"scatterternary\":[{\"type\":\"scatterternary\",\"marker\":{\"colorbar\":{\"outlinewidth\":0,\"ticks\":\"\"}}}],\"scattercarpet\":[{\"type\":\"scattercarpet\",\"marker\":{\"colorbar\":{\"outlinewidth\":0,\"ticks\":\"\"}}}],\"carpet\":[{\"aaxis\":{\"endlinecolor\":\"#2a3f5f\",\"gridcolor\":\"white\",\"linecolor\":\"white\",\"minorgridcolor\":\"white\",\"startlinecolor\":\"#2a3f5f\"},\"baxis\":{\"endlinecolor\":\"#2a3f5f\",\"gridcolor\":\"white\",\"linecolor\":\"white\",\"minorgridcolor\":\"white\",\"startlinecolor\":\"#2a3f5f\"},\"type\":\"carpet\"}],\"table\":[{\"cells\":{\"fill\":{\"color\":\"#EBF0F8\"},\"line\":{\"color\":\"white\"}},\"header\":{\"fill\":{\"color\":\"#C8D4E3\"},\"line\":{\"color\":\"white\"}},\"type\":\"table\"}],\"barpolar\":[{\"marker\":{\"line\":{\"color\":\"#E5ECF6\",\"width\":0.5},\"pattern\":{\"fillmode\":\"overlay\",\"size\":10,\"solidity\":0.2}},\"type\":\"barpolar\"}],\"pie\":[{\"automargin\":true,\"type\":\"pie\"}]},\"layout\":{\"autotypenumbers\":\"strict\",\"colorway\":[\"#636efa\",\"#EF553B\",\"#00cc96\",\"#ab63fa\",\"#FFA15A\",\"#19d3f3\",\"#FF6692\",\"#B6E880\",\"#FF97FF\",\"#FECB52\"],\"font\":{\"color\":\"#2a3f5f\"},\"hovermode\":\"closest\",\"hoverlabel\":{\"align\":\"left\"},\"paper_bgcolor\":\"white\",\"plot_bgcolor\":\"#E5ECF6\",\"polar\":{\"bgcolor\":\"#E5ECF6\",\"angularaxis\":{\"gridcolor\":\"white\",\"linecolor\":\"white\",\"ticks\":\"\"},\"radialaxis\":{\"gridcolor\":\"white\",\"linecolor\":\"white\",\"ticks\":\"\"}},\"ternary\":{\"bgcolor\":\"#E5ECF6\",\"aaxis\":{\"gridcolor\":\"white\",\"linecolor\":\"white\",\"ticks\":\"\"},\"baxis\":{\"gridcolor\":\"white\",\"linecolor\":\"white\",\"ticks\":\"\"},\"caxis\":{\"gridcolor\":\"white\",\"linecolor\":\"white\",\"ticks\":\"\"}},\"coloraxis\":{\"colorbar\":{\"outlinewidth\":0,\"ticks\":\"\"}},\"colorscale\":{\"sequential\":[[0.0,\"#0d0887\"],[0.1111111111111111,\"#46039f\"],[0.2222222222222222,\"#7201a8\"],[0.3333333333333333,\"#9c179e\"],[0.4444444444444444,\"#bd3786\"],[0.5555555555555556,\"#d8576b\"],[0.6666666666666666,\"#ed7953\"],[0.7777777777777778,\"#fb9f3a\"],[0.8888888888888888,\"#fdca26\"],[1.0,\"#f0f921\"]],\"sequentialminus\":[[0.0,\"#0d0887\"],[0.1111111111111111,\"#46039f\"],[0.2222222222222222,\"#7201a8\"],[0.3333333333333333,\"#9c179e\"],[0.4444444444444444,\"#bd3786\"],[0.5555555555555556,\"#d8576b\"],[0.6666666666666666,\"#ed7953\"],[0.7777777777777778,\"#fb9f3a\"],[0.8888888888888888,\"#fdca26\"],[1.0,\"#f0f921\"]],\"diverging\":[[0,\"#8e0152\"],[0.1,\"#c51b7d\"],[0.2,\"#de77ae\"],[0.3,\"#f1b6da\"],[0.4,\"#fde0ef\"],[0.5,\"#f7f7f7\"],[0.6,\"#e6f5d0\"],[0.7,\"#b8e186\"],[0.8,\"#7fbc41\"],[0.9,\"#4d9221\"],[1,\"#276419\"]]},\"xaxis\":{\"gridcolor\":\"white\",\"linecolor\":\"white\",\"ticks\":\"\",\"title\":{\"standoff\":15},\"zerolinecolor\":\"white\",\"automargin\":true,\"zerolinewidth\":2},\"yaxis\":{\"gridcolor\":\"white\",\"linecolor\":\"white\",\"ticks\":\"\",\"title\":{\"standoff\":15},\"zerolinecolor\":\"white\",\"automargin\":true,\"zerolinewidth\":2},\"scene\":{\"xaxis\":{\"backgroundcolor\":\"#E5ECF6\",\"gridcolor\":\"white\",\"linecolor\":\"white\",\"showbackground\":true,\"ticks\":\"\",\"zerolinecolor\":\"white\",\"gridwidth\":2},\"yaxis\":{\"backgroundcolor\":\"#E5ECF6\",\"gridcolor\":\"white\",\"linecolor\":\"white\",\"showbackground\":true,\"ticks\":\"\",\"zerolinecolor\":\"white\",\"gridwidth\":2},\"zaxis\":{\"backgroundcolor\":\"#E5ECF6\",\"gridcolor\":\"white\",\"linecolor\":\"white\",\"showbackground\":true,\"ticks\":\"\",\"zerolinecolor\":\"white\",\"gridwidth\":2}},\"shapedefaults\":{\"line\":{\"color\":\"#2a3f5f\"}},\"annotationdefaults\":{\"arrowcolor\":\"#2a3f5f\",\"arrowhead\":0,\"arrowwidth\":1},\"geo\":{\"bgcolor\":\"white\",\"landcolor\":\"#E5ECF6\",\"subunitcolor\":\"white\",\"showland\":true,\"showlakes\":true,\"lakecolor\":\"white\"},\"title\":{\"x\":0.05},\"mapbox\":{\"style\":\"light\"}}},\"title\":{\"text\":\"Multi-Class Sentiment Detection \"}},                        {\"responsive\": true}                    ).then(function(){\n",
              "                            \n",
              "var gd = document.getElementById('a9421006-16a0-45f4-b2ce-7dd165fd1d57');\n",
              "var x = new MutationObserver(function (mutations, observer) {{\n",
              "        var display = window.getComputedStyle(gd).display;\n",
              "        if (!display || display === 'none') {{\n",
              "            console.log([gd, 'removed!']);\n",
              "            Plotly.purge(gd);\n",
              "            observer.disconnect();\n",
              "        }}\n",
              "}});\n",
              "\n",
              "// Listen for the removal of the full notebook cells\n",
              "var notebookContainer = gd.closest('#notebook-container');\n",
              "if (notebookContainer) {{\n",
              "    x.observe(notebookContainer, {childList: true});\n",
              "}}\n",
              "\n",
              "// Listen for the clearing of the current output cell\n",
              "var outputEl = gd.closest('.output');\n",
              "if (outputEl) {{\n",
              "    x.observe(outputEl, {childList: true});\n",
              "}}\n",
              "\n",
              "                        })                };                            </script>        </div>\n",
              "</body>\n",
              "</html>"
            ]
          },
          "metadata": {}
        }
      ]
    },
    {
      "cell_type": "markdown",
      "source": [
        "## **My Second Attempt (Model Trainning)**"
      ],
      "metadata": {
        "id": "eP1sQL72DV7F"
      }
    },
    {
      "cell_type": "markdown",
      "source": [
        "### Install libraries for NLP and data processing (-q shows detailed output)"
      ],
      "metadata": {
        "id": "4WhQEdRaIFpb"
      }
    },
    {
      "cell_type": "code",
      "source": [
        "!pip install -q transformers datasets torch pandas scikit-learn"
      ],
      "metadata": {
        "id": "FG0m0tLi1lMf"
      },
      "execution_count": 23,
      "outputs": []
    },
    {
      "cell_type": "markdown",
      "source": [
        "### Setup for Fine-Tuning the Model and load the cleaned dataset for review again (Output_Dataset_2.csv)"
      ],
      "metadata": {
        "id": "Xx3CSy3dIbU1"
      }
    },
    {
      "cell_type": "code",
      "source": [
        "from transformers import AutoTokenizer, AutoModelForSequenceClassification, Trainer, TrainingArguments\n",
        "from datasets import Dataset\n",
        "import pandas as pd\n",
        "import torch\n",
        "import torch.nn as nn\n",
        "from sklearn.metrics import classification_report, confusion_matrix, accuracy_score\n",
        "import pickle\n",
        "import plotly.figure_factory as ff\n",
        "\n",
        "# load dataset (Output_Dataset_2.csv)\n",
        "df = pd.read_csv(\"/content/Output_Dataset_2.csv\")\n",
        "df = df.dropna(subset=[\"Cleaned_Feedback\", \"Label\", \"Score\"])  # drop rows with NaN\n",
        "df[\"Cleaned_Feedback\"] = df[\"Cleaned_Feedback\"].astype(str).replace(\"[EMPTY]\", \"\")"
      ],
      "metadata": {
        "id": "X6_70XisDfY4"
      },
      "execution_count": 24,
      "outputs": []
    },
    {
      "cell_type": "markdown",
      "source": [
        "### Standardize and Validate the label"
      ],
      "metadata": {
        "id": "EJV8un3UIyR_"
      }
    },
    {
      "cell_type": "code",
      "source": [
        "# Standardize Label column to title case\n",
        "df[\"Label\"] = df[\"Label\"].str.strip().str.title()  # capitalize the Label\n",
        "\n",
        "# Validate Label column\n",
        "valid_labels = {\"Positive\", \"Negative\", \"Neutral\", \"No Match\"}\n",
        "invalid_labels = set(df[\"Label\"]) - valid_labels\n",
        "if invalid_labels:\n",
        "    print(f\"Warning: Invalid labels found in 'Label' column: {invalid_labels}\")\n",
        "    print(\"Replacing invalid labels with 'No Match'\")\n",
        "    df[\"Label\"] = df[\"Label\"].apply(lambda x: x if x in valid_labels else \"No Match\")"
      ],
      "metadata": {
        "id": "LR7Rb5vuFjQX"
      },
      "execution_count": 25,
      "outputs": []
    },
    {
      "cell_type": "markdown",
      "source": [
        "### Encode the string label into numerical and convert into hugging face dataset"
      ],
      "metadata": {
        "id": "y9HYwxXEJFah"
      }
    },
    {
      "cell_type": "code",
      "source": [
        "# encode string labels to numerical\n",
        "label_map = {\"Positive\": 0, \"Negative\": 1, \"Neutral\": 2, \"No Match\": 3}\n",
        "df[\"labels\"] = df[\"Label\"].map(label_map)\n",
        "if df[\"labels\"].isna().any():\n",
        "    raise ValueError(\"Found NaN after label mapping. Check 'Label' column for unexpected values.\")\n",
        "\n",
        "# convert into hugging face dataset\n",
        "dataset = Dataset.from_pandas(df[[\"Cleaned_Feedback\", \"labels\"]])\n",
        "dataset = dataset.rename_column(\"Cleaned_Feedback\", \"text\")"
      ],
      "metadata": {
        "id": "zcM_iOlsFod_"
      },
      "execution_count": 26,
      "outputs": []
    },
    {
      "cell_type": "markdown",
      "source": [
        "### Load the base and tokenize model"
      ],
      "metadata": {
        "id": "pbt5NJqLJVd4"
      }
    },
    {
      "cell_type": "code",
      "source": [
        "model_name = \"cardiffnlp/twitter-roberta-base-sentiment\"\n",
        "tokenizer = AutoTokenizer.from_pretrained(model_name)\n",
        "base_model = AutoModelForSequenceClassification.from_pretrained(model_name, num_labels=3)  # load with default 3 classes"
      ],
      "metadata": {
        "id": "kpySdZTFFvvd"
      },
      "execution_count": 27,
      "outputs": []
    },
    {
      "cell_type": "markdown",
      "source": [
        "### Create a new model with 4 classes and tokenize the dataset"
      ],
      "metadata": {
        "id": "ydrisIkKJg9O"
      }
    },
    {
      "cell_type": "code",
      "source": [
        "# then I create a new model with 4 classes\n",
        "model = AutoModelForSequenceClassification.from_pretrained(model_name, num_labels=4, ignore_mismatched_sizes=True)\n",
        "# copy weights from base model\n",
        "model.roberta.load_state_dict(base_model.roberta.state_dict())\n",
        "\n",
        "# tokenize dataset\n",
        "def tokenize_function(examples):\n",
        "    return tokenizer(examples[\"text\"], padding=\"max_length\", truncation=True, max_length=128)\n",
        "\n",
        "tokenized_dataset = dataset.map(tokenize_function, batched=True)\n",
        "tokenized_dataset = tokenized_dataset.remove_columns([\"text\"])  # remove text column"
      ],
      "metadata": {
        "colab": {
          "base_uri": "https://localhost:8080/",
          "height": 138,
          "referenced_widgets": [
            "81d518def04e41549da9e334743db012",
            "2b9b297328884dee8666ec954048b754",
            "469cbe87cfdd4426a5158eb508cdf735",
            "41253981b57c417ca5945f9054829f5f",
            "bdf444906e8844b7820042fb8cbb3597",
            "14104bd2660a4122b1a498c4b51148b1",
            "d31771e0ad57407f93c60f61043824aa",
            "e31613165cf848ec92e3eefa050b5b2d",
            "09e04d24b3684371a3fccb9beeaac9bb",
            "0502df5fb53d4328b9d583ed3e391cbc",
            "7e7173be82ca46a485957a8d209f52bc"
          ]
        },
        "id": "LccY-Uk2FxO9",
        "outputId": "b09ade28-d118-41dd-bfff-1837c7473a77"
      },
      "execution_count": 28,
      "outputs": [
        {
          "output_type": "stream",
          "name": "stderr",
          "text": [
            "Some weights of RobertaForSequenceClassification were not initialized from the model checkpoint at cardiffnlp/twitter-roberta-base-sentiment and are newly initialized because the shapes did not match:\n",
            "- classifier.out_proj.weight: found shape torch.Size([3, 768]) in the checkpoint and torch.Size([4, 768]) in the model instantiated\n",
            "- classifier.out_proj.bias: found shape torch.Size([3]) in the checkpoint and torch.Size([4]) in the model instantiated\n",
            "You should probably TRAIN this model on a down-stream task to be able to use it for predictions and inference.\n"
          ]
        },
        {
          "output_type": "display_data",
          "data": {
            "text/plain": [
              "Map:   0%|          | 0/744 [00:00<?, ? examples/s]"
            ],
            "application/vnd.jupyter.widget-view+json": {
              "version_major": 2,
              "version_minor": 0,
              "model_id": "81d518def04e41549da9e334743db012"
            }
          },
          "metadata": {}
        }
      ]
    },
    {
      "cell_type": "markdown",
      "source": [
        "### Then split the dataset (train,test & validation) and set format for pytorch"
      ],
      "metadata": {
        "id": "GnvRRvR6J0Hq"
      }
    },
    {
      "cell_type": "code",
      "source": [
        "# split dataset into train and validation\n",
        "train_test_split = tokenized_dataset.train_test_split(test_size=0.2, seed=42)\n",
        "train_dataset = train_test_split[\"train\"]\n",
        "eval_dataset = train_test_split[\"test\"]\n",
        "\n",
        "# set format for PyTorch\n",
        "train_dataset.set_format(\"torch\", columns=[\"input_ids\", \"attention_mask\", \"labels\"])\n",
        "eval_dataset.set_format(\"torch\", columns=[\"input_ids\", \"attention_mask\", \"labels\"])"
      ],
      "metadata": {
        "id": "as84rFg1F2WF"
      },
      "execution_count": 29,
      "outputs": []
    },
    {
      "cell_type": "markdown",
      "source": [
        "### Set trainning arguments"
      ],
      "metadata": {
        "id": "x_eZZTg2KMak"
      }
    },
    {
      "cell_type": "code",
      "source": [
        "# define training arguments\n",
        "training_args = TrainingArguments(\n",
        "    output_dir=\"/content/fine_tuned_model\",\n",
        "    eval_strategy=\"epoch\",\n",
        "    save_strategy=\"epoch\",\n",
        "    learning_rate=2e-5,\n",
        "    per_device_train_batch_size=16,\n",
        "    per_device_eval_batch_size=16,\n",
        "    num_train_epochs=5,\n",
        "    weight_decay=0.01,\n",
        "    load_best_model_at_end=True,\n",
        "    metric_for_best_model=\"accuracy\",\n",
        "    logging_dir=\"/content/logs\",\n",
        "    logging_steps=10,\n",
        ")"
      ],
      "metadata": {
        "id": "HUHqosJyF6DX"
      },
      "execution_count": 30,
      "outputs": []
    },
    {
      "cell_type": "markdown",
      "source": [
        "### Create metrics function to compute further"
      ],
      "metadata": {
        "id": "H7Xsc0x3KUTD"
      }
    },
    {
      "cell_type": "code",
      "source": [
        "# define compute_metrics function\n",
        "def compute_metrics(pred):\n",
        "    labels = pred.label_ids\n",
        "    preds = pred.predictions.argmax(-1)\n",
        "    report = classification_report(labels, preds, labels=[0, 1, 2, 3], target_names=[\"Positive\", \"Negative\", \"Neutral\", \"No Match\"], output_dict=True, zero_division=0)\n",
        "    return {\n",
        "        \"accuracy\": accuracy_score(labels, preds),\n",
        "        \"positive_recall\": report[\"Positive\"][\"recall\"],\n",
        "        \"negative_recall\": report[\"Negative\"][\"recall\"],\n",
        "        \"neutral_recall\": report[\"Neutral\"][\"recall\"],\n",
        "        \"no_match_recall\": report[\"No Match\"][\"recall\"],\n",
        "    }\n",
        "\n",
        "# define custom Trainer for class weights\n",
        "class CustomTrainer(Trainer):\n",
        "    def compute_loss(self, model, inputs, return_outputs=False, **kwargs):\n",
        "        labels = inputs.get(\"labels\")\n",
        "        outputs = model(**inputs)\n",
        "        logits = outputs.get(\"logits\")\n",
        "        # class weights to prioritize No Match (index 3)\n",
        "        class_weights = torch.tensor([1.0, 1.0, 1.0, 2.0], device=logits.device)\n",
        "        loss_fct = nn.CrossEntropyLoss(weight=class_weights)\n",
        "        loss = loss_fct(logits, labels)\n",
        "        return (loss, outputs) if return_outputs else loss"
      ],
      "metadata": {
        "id": "56p3yEqTF-jC"
      },
      "execution_count": 31,
      "outputs": []
    },
    {
      "cell_type": "markdown",
      "source": [
        "### Now let's initialize the trainer and finally train the model"
      ],
      "metadata": {
        "id": "xfCfxJeJKeTa"
      }
    },
    {
      "cell_type": "code",
      "source": [
        "# Now initialize our trainer\n",
        "trainer = CustomTrainer(\n",
        "    model=model,\n",
        "    args=training_args,\n",
        "    train_dataset=train_dataset,\n",
        "    eval_dataset=eval_dataset,\n",
        "    compute_metrics=compute_metrics,\n",
        ")\n",
        "\n",
        "# now final train the model\n",
        "trainer.train()"
      ],
      "metadata": {
        "id": "u0-kr1PIHl4G"
      },
      "execution_count": null,
      "outputs": []
    },
    {
      "cell_type": "markdown",
      "source": [
        "### Then save my final pre_trained model using Hugging face"
      ],
      "metadata": {
        "id": "nojJV0o4Kp0g"
      }
    },
    {
      "cell_type": "code",
      "source": [
        "model.save_pretrained(\"/content/fine_tuned_model\")\n",
        "tokenizer.save_pretrained(\"/content/fine_tuned_model\")\n",
        "print(\"Model and tokenizer saved to /content/fine_tuned_model\")"
      ],
      "metadata": {
        "id": "VoZyWW8GGZV_"
      },
      "execution_count": null,
      "outputs": []
    },
    {
      "cell_type": "markdown",
      "source": [
        "### Now I predict the sentiment on full dataset"
      ],
      "metadata": {
        "id": "1g0sCz13K2XE"
      }
    },
    {
      "cell_type": "code",
      "source": [
        "def predict_sentiment(text):\n",
        "    no_match_phrases = [\"nothing\", \"no comments\", \"no suggestion\", \"no thanks\", \"none\", \"nil\", \"n/a\"]\n",
        "    if not text or text.strip() == \"\" or text.lower().strip() in no_match_phrases:\n",
        "        return \"No Match\"\n",
        "    tokens = tokenizer(text, return_tensors=\"pt\", truncation=True, max_length=128)\n",
        "    tokens = {k: v.to(model.device) for k, v in tokens.items()}\n",
        "    with torch.no_grad():\n",
        "        output = model(**tokens)\n",
        "        scores = torch.nn.functional.softmax(output.logits, dim=1)\n",
        "        predicted_class = torch.argmax(scores).item()\n",
        "    return [\"Positive\", \"Negative\", \"Neutral\", \"No Match\"][predicted_class]"
      ],
      "metadata": {
        "id": "6E2ASVEQHJgW"
      },
      "execution_count": null,
      "outputs": []
    },
    {
      "cell_type": "markdown",
      "source": [
        "### Apply prediction function and clean some labels for further evaluation"
      ],
      "metadata": {
        "id": "vu_NT-TaLEAK"
      }
    },
    {
      "cell_type": "code",
      "source": [
        "# apply predictions\n",
        "df[\"Predicted_Sentiment\"] = df[\"Cleaned_Feedback\"].apply(predict_sentiment)\n",
        "\n",
        "# clean labels for evaluation\n",
        "df[\"Label\"] = df[\"Label\"].str.strip().str.title()\n",
        "df[\"Predicted_Sentiment\"] = df[\"Predicted_Sentiment\"].str.strip().str.title()"
      ],
      "metadata": {
        "id": "X8Axc8Q7HMMw"
      },
      "execution_count": null,
      "outputs": []
    },
    {
      "cell_type": "markdown",
      "source": [
        "### Then finally evaluate and check all the performance metrics with heatmap visualization"
      ],
      "metadata": {
        "id": "Eu7SOtDiLMhr"
      }
    },
    {
      "cell_type": "code",
      "source": [
        "# evaluate\n",
        "labels = [\"Positive\", \"Negative\", \"Neutral\", \"No Match\"]\n",
        "cm = confusion_matrix(df[\"Label\"], df[\"Predicted_Sentiment\"], labels=labels)\n",
        "report = classification_report(df[\"Label\"], df[\"Predicted_Sentiment\"], labels=labels, output_dict=True, zero_division=0)\n",
        "\n",
        "# print class-wise accuracy\n",
        "print(\"\\n-------------------------PER CLASS BREAKDOWN---------------------------\\n\")\n",
        "for label in labels:\n",
        "    recall = report[label][\"recall\"]\n",
        "    print(f\"{label:10s}: {recall:.3f}\")\n",
        "\n",
        "# any misclassification checks\n",
        "pos_as_neg = cm[labels.index(\"Positive\")][labels.index(\"Negative\")]\n",
        "neg_as_pos = cm[labels.index(\"Negative\")][labels.index(\"Positive\")]\n",
        "print(\"Positive → Negative Misclassifications:\", pos_as_neg)\n",
        "print(\"Negative → Positive Misclassifications:\", neg_as_pos)\n",
        "\n",
        "# evaluation criteria check\n",
        "criteria = {\n",
        "    \"Positive ≥ 0.96\": report[\"Positive\"][\"recall\"] >= 0.96,\n",
        "    \"Neutral ≥ 0.56\": report[\"Neutral\"][\"recall\"] >= 0.56,\n",
        "    \"Negative ≥ 0.646\": report[\"Negative\"][\"recall\"] >= 0.646,\n",
        "    \"No Match = 1.0\": report[\"No Match\"][\"recall\"] == 1.0,\n",
        "    \"Positive→Negative = 0\": pos_as_neg == 0,\n",
        "    \"Negative→Positive ≤ 8\": neg_as_pos <= 8,\n",
        "}\n",
        "print(\"\\n-------------------------EVALUATION CRITERIA CHECK---------------------\\n\")\n",
        "for k, passed in criteria.items():\n",
        "    status = \"Passed\" if passed else \"Failed\"\n",
        "    print(f\"{k:<30} {status}\")\n",
        "\n",
        "# overall accuracy\n",
        "accuracy = accuracy_score(df[\"Label\"], df[\"Predicted_Sentiment\"])\n",
        "print(f\"\\n-------------------------OVERALL MODEL ACCURACY: {accuracy * 100:.2f}% ---------------\")\n",
        "\n",
        "# save the output dataset\n",
        "output_path = \"/content/Output_Dataset_3.csv\"\n",
        "df.to_csv(output_path, index=False)\n",
        "print(f\"Predictions saved to: {output_path}\")\n",
        "\n",
        "# plotly heatmap visualization\n",
        "cm = confusion_matrix(df[\"Label\"], df[\"Predicted_Sentiment\"], labels=labels)\n",
        "fig = ff.create_annotated_heatmap(\n",
        "    z=cm,\n",
        "    x=labels,\n",
        "    y=labels,\n",
        "    annotation_text=cm.astype(str),\n",
        "    colorscale=\"Purples\",\n",
        "    showscale=True,\n",
        ")\n",
        "fig.update_layout(\n",
        "    title=\"Multi-Class Sentiment Detection\",\n",
        "    xaxis_title=\"Predicted Label\",\n",
        "    yaxis_title=\"Label\",\n",
        ")\n",
        "fig.show()"
      ],
      "metadata": {
        "id": "jp1HJfJmHQ42"
      },
      "execution_count": null,
      "outputs": []
    },
    {
      "cell_type": "markdown",
      "source": [
        "### At last, I download the zip folder of my final Model to create streamlit app directly"
      ],
      "metadata": {
        "id": "l0sNwGyVLnPF"
      }
    },
    {
      "cell_type": "code",
      "source": [
        "from google.colab import files\n",
        "import shutil\n",
        "import os\n",
        "\n",
        "# path of my model folder\n",
        "model_folder = \"/content/fine_tuned_model\"\n",
        "\n",
        "# create a ZIP file\n",
        "zip_path = \"/content/fine_tuned_model.zip\"\n",
        "shutil.make_archive(\"/content/fine_tuned_model\", 'zip', model_folder)\n",
        "\n",
        "# download the ZIP\n",
        "files.download(zip_path)"
      ],
      "metadata": {
        "id": "X4DrfW4xHY_d"
      },
      "execution_count": null,
      "outputs": []
    },
    {
      "cell_type": "markdown",
      "source": [
        "# **Finish Model Trainng**"
      ],
      "metadata": {
        "id": "hDbE3WFqN7Rs"
      }
    },
    {
      "cell_type": "markdown",
      "source": [
        "### **First Attempt - 97.98% Accuracy (with 3-classes--> Positive/Neutral/ Negative)**\n",
        "\n",
        "### **Second Attempt - 89.38% Accuracy (with 4-Labels--> Positive/Neutral/Negative/No Match)**"
      ],
      "metadata": {
        "id": "afjuD6EAOZnu"
      }
    }
  ]
}